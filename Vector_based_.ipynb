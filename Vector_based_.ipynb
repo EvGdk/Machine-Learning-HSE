{
  "nbformat": 4,
  "nbformat_minor": 0,
  "metadata": {
    "kernelspec": {
      "display_name": "Python 3",
      "language": "python",
      "name": "python3"
    },
    "language_info": {
      "codemirror_mode": {
        "name": "ipython",
        "version": 3
      },
      "file_extension": ".py",
      "mimetype": "text/x-python",
      "name": "python",
      "nbconvert_exporter": "python",
      "pygments_lexer": "ipython3",
      "version": "3.7.6"
    },
    "colab": {
      "name": "Vector-based .ipynb",
      "provenance": [],
      "include_colab_link": true
    }
  },
  "cells": [
    {
      "cell_type": "markdown",
      "metadata": {
        "id": "view-in-github",
        "colab_type": "text"
      },
      "source": [
        "<a href=\"https://colab.research.google.com/github/EvGdk/Machine-Learning-HSE/blob/master/Vector_based_.ipynb\" target=\"_parent\"><img src=\"https://colab.research.google.com/assets/colab-badge.svg\" alt=\"Open In Colab\"/></a>"
      ]
    },
    {
      "cell_type": "markdown",
      "metadata": {
        "id": "shU7M6Wq5PzI",
        "colab_type": "text"
      },
      "source": [
        ""
      ]
    },
    {
      "cell_type": "code",
      "metadata": {
        "id": "uMKFwg5a5PzL",
        "colab_type": "code",
        "colab": {
          "base_uri": "https://localhost:8080/",
          "height": 541
        },
        "outputId": "8cdbe43b-6693-4e6b-f39f-70c9c4d52fc9"
      },
      "source": [
        "import sys\n",
        "!{sys.executable} -m pip install \"msgpack-numpy<0.4.4.0\"\n",
        "!{sys.executable} -m pip install \"spacy\"\n",
        "# загружаем вектора фасттекста\n",
        "!curl https://dl.fbaipublicfiles.com/fasttext/vectors-crawl/cc.ru.300.vec.gz -O ../vectors/cc.ru.300.vec.gz"
      ],
      "execution_count": 1,
      "outputs": [
        {
          "output_type": "stream",
          "text": [
            "Collecting msgpack-numpy<0.4.4.0\n",
            "  Downloading https://files.pythonhosted.org/packages/ad/45/464be6da85b5ca893cfcbd5de3b31a6710f636ccb8521b17bd4110a08d94/msgpack_numpy-0.4.3.2-py2.py3-none-any.whl\n",
            "Requirement already satisfied: numpy>=1.9.0 in /usr/local/lib/python3.6/dist-packages (from msgpack-numpy<0.4.4.0) (1.18.4)\n",
            "Requirement already satisfied: msgpack>=0.3.0 in /usr/local/lib/python3.6/dist-packages (from msgpack-numpy<0.4.4.0) (1.0.0)\n",
            "Installing collected packages: msgpack-numpy\n",
            "Successfully installed msgpack-numpy-0.4.3.2\n",
            "Requirement already satisfied: spacy in /usr/local/lib/python3.6/dist-packages (2.2.4)\n",
            "Requirement already satisfied: setuptools in /usr/local/lib/python3.6/dist-packages (from spacy) (46.3.0)\n",
            "Requirement already satisfied: blis<0.5.0,>=0.4.0 in /usr/local/lib/python3.6/dist-packages (from spacy) (0.4.1)\n",
            "Requirement already satisfied: plac<1.2.0,>=0.9.6 in /usr/local/lib/python3.6/dist-packages (from spacy) (1.1.3)\n",
            "Requirement already satisfied: catalogue<1.1.0,>=0.0.7 in /usr/local/lib/python3.6/dist-packages (from spacy) (1.0.0)\n",
            "Requirement already satisfied: srsly<1.1.0,>=1.0.2 in /usr/local/lib/python3.6/dist-packages (from spacy) (1.0.2)\n",
            "Requirement already satisfied: thinc==7.4.0 in /usr/local/lib/python3.6/dist-packages (from spacy) (7.4.0)\n",
            "Requirement already satisfied: murmurhash<1.1.0,>=0.28.0 in /usr/local/lib/python3.6/dist-packages (from spacy) (1.0.2)\n",
            "Requirement already satisfied: cymem<2.1.0,>=2.0.2 in /usr/local/lib/python3.6/dist-packages (from spacy) (2.0.3)\n",
            "Requirement already satisfied: tqdm<5.0.0,>=4.38.0 in /usr/local/lib/python3.6/dist-packages (from spacy) (4.41.1)\n",
            "Requirement already satisfied: preshed<3.1.0,>=3.0.2 in /usr/local/lib/python3.6/dist-packages (from spacy) (3.0.2)\n",
            "Requirement already satisfied: numpy>=1.15.0 in /usr/local/lib/python3.6/dist-packages (from spacy) (1.18.4)\n",
            "Requirement already satisfied: wasabi<1.1.0,>=0.4.0 in /usr/local/lib/python3.6/dist-packages (from spacy) (0.6.0)\n",
            "Requirement already satisfied: requests<3.0.0,>=2.13.0 in /usr/local/lib/python3.6/dist-packages (from spacy) (2.23.0)\n",
            "Requirement already satisfied: importlib-metadata>=0.20; python_version < \"3.8\" in /usr/local/lib/python3.6/dist-packages (from catalogue<1.1.0,>=0.0.7->spacy) (1.6.0)\n",
            "Requirement already satisfied: urllib3!=1.25.0,!=1.25.1,<1.26,>=1.21.1 in /usr/local/lib/python3.6/dist-packages (from requests<3.0.0,>=2.13.0->spacy) (1.24.3)\n",
            "Requirement already satisfied: idna<3,>=2.5 in /usr/local/lib/python3.6/dist-packages (from requests<3.0.0,>=2.13.0->spacy) (2.9)\n",
            "Requirement already satisfied: certifi>=2017.4.17 in /usr/local/lib/python3.6/dist-packages (from requests<3.0.0,>=2.13.0->spacy) (2020.4.5.1)\n",
            "Requirement already satisfied: chardet<4,>=3.0.2 in /usr/local/lib/python3.6/dist-packages (from requests<3.0.0,>=2.13.0->spacy) (3.0.4)\n",
            "Requirement already satisfied: zipp>=0.5 in /usr/local/lib/python3.6/dist-packages (from importlib-metadata>=0.20; python_version < \"3.8\"->catalogue<1.1.0,>=0.0.7->spacy) (3.1.0)\n",
            "  % Total    % Received % Xferd  Average Speed   Time    Time     Time  Current\n",
            "                                 Dload  Upload   Total   Spent    Left  Speed\n",
            "100 1245M  100 1245M    0     0  14.0M      0  0:01:28  0:01:28 --:--:-- 14.3M\n",
            "curl: (6) Could not resolve host: .\n"
          ],
          "name": "stdout"
        }
      ]
    },
    {
      "cell_type": "code",
      "metadata": {
        "id": "3v1C4k-R5Pza",
        "colab_type": "code",
        "colab": {
          "base_uri": "https://localhost:8080/",
          "height": 322
        },
        "outputId": "8a0f016e-827a-4e4c-d7cb-6a3d4e0b3047"
      },
      "source": [
        "!{sys.executable} -m pip install \"pymorphy2\"\n",
        "!{sys.executable} -m pip install \"pymystem3\"\n",
        "#ставим пайморфи и майстем"
      ],
      "execution_count": 2,
      "outputs": [
        {
          "output_type": "stream",
          "text": [
            "Collecting pymorphy2\n",
            "\u001b[?25l  Downloading https://files.pythonhosted.org/packages/a3/33/fff9675c68b5f6c63ec8c6e6ff57827dda28a1fa5b2c2d727dffff92dd47/pymorphy2-0.8-py2.py3-none-any.whl (46kB)\n",
            "\r\u001b[K     |███████                         | 10kB 18.5MB/s eta 0:00:01\r\u001b[K     |██████████████▏                 | 20kB 1.7MB/s eta 0:00:01\r\u001b[K     |█████████████████████▎          | 30kB 2.5MB/s eta 0:00:01\r\u001b[K     |████████████████████████████▍   | 40kB 3.3MB/s eta 0:00:01\r\u001b[K     |████████████████████████████████| 51kB 1.7MB/s \n",
            "\u001b[?25hCollecting dawg-python>=0.7\n",
            "  Downloading https://files.pythonhosted.org/packages/6a/84/ff1ce2071d4c650ec85745766c0047ccc3b5036f1d03559fd46bb38b5eeb/DAWG_Python-0.7.2-py2.py3-none-any.whl\n",
            "Collecting pymorphy2-dicts<3.0,>=2.4\n",
            "\u001b[?25l  Downloading https://files.pythonhosted.org/packages/02/51/2465fd4f72328ab50877b54777764d928da8cb15b74e2680fc1bd8cb3173/pymorphy2_dicts-2.4.393442.3710985-py2.py3-none-any.whl (7.1MB)\n",
            "\u001b[K     |████████████████████████████████| 7.1MB 7.4MB/s \n",
            "\u001b[?25hRequirement already satisfied: docopt>=0.6 in /usr/local/lib/python3.6/dist-packages (from pymorphy2) (0.6.2)\n",
            "Installing collected packages: dawg-python, pymorphy2-dicts, pymorphy2\n",
            "Successfully installed dawg-python-0.7.2 pymorphy2-0.8 pymorphy2-dicts-2.4.393442.3710985\n",
            "Requirement already satisfied: pymystem3 in /usr/local/lib/python3.6/dist-packages (0.2.0)\n",
            "Requirement already satisfied: requests in /usr/local/lib/python3.6/dist-packages (from pymystem3) (2.23.0)\n",
            "Requirement already satisfied: urllib3!=1.25.0,!=1.25.1,<1.26,>=1.21.1 in /usr/local/lib/python3.6/dist-packages (from requests->pymystem3) (1.24.3)\n",
            "Requirement already satisfied: certifi>=2017.4.17 in /usr/local/lib/python3.6/dist-packages (from requests->pymystem3) (2020.4.5.1)\n",
            "Requirement already satisfied: idna<3,>=2.5 in /usr/local/lib/python3.6/dist-packages (from requests->pymystem3) (2.9)\n",
            "Requirement already satisfied: chardet<4,>=3.0.2 in /usr/local/lib/python3.6/dist-packages (from requests->pymystem3) (3.0.4)\n"
          ],
          "name": "stdout"
        }
      ]
    },
    {
      "cell_type": "code",
      "metadata": {
        "id": "iRGUvdhJ5Pzh",
        "colab_type": "code",
        "colab": {},
        "outputId": "1d83d533-26b5-4255-a60d-293cbe235d29"
      },
      "source": [
        "!{sys.executable} -m spacy init-model ru /tmp/fasttext-vectors --vectors-loc vectors/cc.ru.300.vec.gz"
      ],
      "execution_count": 0,
      "outputs": [
        {
          "output_type": "stream",
          "text": [
            "\u001b[2K\u001b[38;5;2m✔ Successfully created model\u001b[0m\n",
            "2000000it [03:14, 10269.83it/s]cc.ru.300.vec.gz\n",
            "\u001b[2K\u001b[38;5;2m✔ Loaded vectors from vectors/cc.ru.300.vec.gz\u001b[0m\n",
            "\u001b[38;5;2m✔ Sucessfully compiled vocab\u001b[0m\n",
            "2000199 entries, 2000000 vectors\n"
          ],
          "name": "stdout"
        }
      ]
    },
    {
      "cell_type": "code",
      "metadata": {
        "id": "n_2A8KW15Pzn",
        "colab_type": "code",
        "colab": {}
      },
      "source": [
        "import csv\n",
        "import pandas as pd\n",
        "import spacy\n",
        "from pymystem3 import Mystem\n",
        "# импортируем нужные библиотеки"
      ],
      "execution_count": 0,
      "outputs": []
    },
    {
      "cell_type": "code",
      "metadata": {
        "id": "Kn2tXBMT5Pzv",
        "colab_type": "code",
        "colab": {}
      },
      "source": [
        "#функции препроцессинга\n",
        "#Токенизация и удаление мусора (знаки препинания и прочее).\n",
        "#Используется mystem, который расширен для удаления комбинаций вида \"пробел-кавычка\", \"скобка-кавычка\", так как такое часто встречается в нашем датасете.\n",
        "#Лемматизация. При помощи mystem получаем начальные формы слов.\n",
        "#Удаление стоп-слов. За основу взят словарь стоп-слов для русского языка из пакета nltk и дополнен вручную словами приветствия и вопросительными местоимениями,\n",
        "#которые наиболее часто встречаются в нашем датасете и не несут особого смысла\n",
        "mystem = Mystem()\n",
        "\n",
        "RUSSIAN_STOPWORDS = ['и', 'в', 'во', 'не', 'что', 'он', 'на', 'я', 'с', 'со', 'что-то', \n",
        "'как', 'а', 'то', 'все', 'она', 'так', 'его', 'но', 'да', 'ты', 'к', 'у', 'же', \n",
        "'вы', 'за', 'бы', 'по', 'только', 'ее', 'мне', 'было', 'вот', 'от', 'меня', 'еще', \n",
        "'нет', 'о', 'из', 'ему', 'теперь', 'когда', 'даже', 'ну', 'вдруг', 'ли', 'если', \n",
        "'уже', 'или', 'ни', 'быть', 'был', 'него', 'до', 'вас', 'нибудь', 'опять', 'уж', \n",
        "'вам', 'ведь', 'там', 'потом', 'себя', 'ничего', 'ей', 'может', 'они', 'тут', \n",
        "'где', 'есть', 'надо', 'ней', 'для', 'мы', 'тебя', 'их', 'чем', 'была', 'сам', \n",
        "'чтоб', 'без', 'будто', 'чего', 'раз', 'тоже', 'себе', 'под', 'будет', 'ж', \n",
        "'тогда', 'кто', 'этот', 'того', 'потому', 'этого', 'какой', 'совсем', 'ним', \n",
        "'здесь', 'этом', 'один', 'почти', 'мой', 'тем', 'чтобы', 'нее', 'сейчас', 'были', \n",
        "'куда', 'зачем', 'всех', 'никогда', 'при', 'наконец', 'два', 'об', 'другой', \n",
        "'хоть', 'после', 'над', 'больше', 'тот', 'через', 'эти', 'нас', 'про', 'всего', 'них', \n",
        "'какая', 'много', 'разве', 'три', 'эту', 'моя', 'впрочем', 'хорошо', 'свою', 'этой', \n",
        "'перед', 'иногда', 'лучше', 'чуть', 'том', 'такой', 'им', 'более', 'всегда', \n",
        "'конечно', 'всю', 'между', 'почему', 'мочь', 'хотеть', 'какие', 'как', 'привет', \n",
        "'здравствуйте', 'приветствую', 'сделать', 'узнавать', 'что-нибудь', 'пожалуйста',\n",
        "]\n",
        "\n",
        "TRASH = [' ', ',', ', ', ' ?', '? ', '-', '.', '. ', ')', '(', ' (', ') ', '«', '»', ' «', '» ', '!', '?', '\\n']\n",
        "\n",
        "\n",
        "def lemmatize(text):\n",
        "    lemmas_with_spaces = mystem.lemmatize(text)\n",
        "    return lemmas_with_spaces\n",
        "\n",
        "\n",
        "def remove_stop_words(lemmas):\n",
        "    return [w for w in lemmas if not w in RUSSIAN_STOPWORDS]\n",
        "\n",
        "\n",
        "def clean_text(text):\n",
        "    res = text[:]\n",
        "    \n",
        "    for word in text:\n",
        "        if word in TRASH: \n",
        "            res.remove(word)\n",
        "\n",
        "    return res"
      ],
      "execution_count": 0,
      "outputs": []
    },
    {
      "cell_type": "markdown",
      "metadata": {
        "id": "GI6eeQzx5Pz4",
        "colab_type": "text"
      },
      "source": [
        "# load spacy"
      ]
    },
    {
      "cell_type": "code",
      "metadata": {
        "id": "YYCNAuMh5Pz6",
        "colab_type": "code",
        "colab": {},
        "outputId": "ae6ccd87-2724-46cd-be48-f4c169ffdfda"
      },
      "source": [
        "nlp = spacy.load('/tmp/fasttext-vectors')\n",
        "\n",
        "a = nlp('привет')\n",
        "b = nlp('здравствуй')\n",
        "\n",
        "a.similarity(b)"
      ],
      "execution_count": 0,
      "outputs": [
        {
          "output_type": "execute_result",
          "data": {
            "text/plain": [
              "0.5808276450175823"
            ]
          },
          "metadata": {
            "tags": []
          },
          "execution_count": 46
        }
      ]
    },
    {
      "cell_type": "code",
      "metadata": {
        "id": "2mS8t5iY5Pz_",
        "colab_type": "code",
        "colab": {}
      },
      "source": [
        "faqs = {\n",
        "'Меня уведомили о том, что мили могут «сгореть». Могу ли я сейчас оформить премию?': 'Мили в программе S7 Priority действительны до конца года, в котором был совершен полет или получена услуга, и в течение двух последующих календарных лет. Станьте активным участником нашей программы, и тогда срок действия миль будет продлён ещё на год.Чтобы стать активным участником программы, нужно:Совершить в течение календарного года (с 1 января по 31 декабря) не менее одного полета в качестве участника на регулярном рейсе S7 или авиакомпаний-партнёров по альянсу по тарифу, участвующему в начислении миль.Накопить не менее 5 000 миль (не считая приветственных за активацию карты и миль, начисляемых в рамках акций и специальных предложений Партнера) за использование платёжной карты S7 Priority при оплате товаров или услуг.Помните, что в программе засчитываются только полёты рейсами S7, авиакомпаний-партнёров альянса oneworld, по тарифам, участвующим в начислении миль, и учтённые в S7 Priority. Полёт не подтверждает ваш статус активного участника, если его тариф не участвует в начислении миль или этот полёт учтён в других программах лояльности.Если Вы не выполнили условия для продления срока действия миль, Вы можете обратиться в Сервисный Центр Программы по телефону горячей линии 8 800 100-77-11 и воспользоваться услугой платного продления. Минимально возможная сумма миль для продления — 500 миль. Стоимость минимального пакета для продления миль составляет 250 р. (1 миля=0.50 р.). Операция по продлению миль не может быть отменена, денежные средства не могут быть возвращены.',\n",
        "'Какие нужно пройти инстанции, какие потребуются документы, чтобы перевезти в самолёте животное?': 'Перед регистрацией на рейс вашему питомцу необходимо пройти ветеринарный контроль в Службе ветеринарного контроля аэропорта вылета:Если вы летите в города России или в страны СНГ, предъявите ветеринарной службе ветеринарный паспорт и ветеринарное свидетельство животного. После проверки животного документов и состояния животного, в ветеринарное свидетельство ставится печать и вам выдается специальный посадочный талон, который необходимо предъявить перевозитьперевозить перевозить перевозить при регистрации на рейс.Если вы летите международным рейсом (кроме стран СНГ), в обмен перевозить на ветеринарное свидетельство вам выдадут перевозить ветеринарный сертификат, который действует в течение 1—3 дней. Для вывоза животного за рубеж, российской таможне необходимо предъявить справку о том, что животное не представляет племенной ценности.Что требуется ещё:контейнер или клетка, соответствующая требованиям к контейнерам для перевозки животного воздушным транспортом,животному нужно сделать прививку против бешенства не ранее чем за год и не позднее чем за месяц до перелёта.Заранее узнайте обо всех требованиях и порядке оформления документов на перевозку животных в Службе ветеринарного контроля аэропорта вылета.Телефон Службы ветеринарного контроля аэропорта Домодедово (Москва): +7 (495) 967-83-96.Телефоны Службы ветеринарного контроля аэропорта Толмачёво (Новосибирск): +7 (383) 216-98-77.Внимание! Не позднее чем за 48 часов до вылета самолёта вам нужно сделать запрос на перевозку животного, позвонив в контактный центр S7 по телефону 8 800 700-0707 (по России бесплатно).Приезжайте в аэропорт заблаговременно, чтобы без спешки и суеты пройти все необходимые формальности. И помните, что пассажир несёт полную ответственность за комфорт и поведение своего питомца во время перелёта.',\n",
        "'Что запрещено перевозить в самолёте?': 'Огнестрельное оружие, охотничьи патроны, взрывчатые вещества, фейерверки, сигнальные ракеты.Окисленные материалы и перекиси органического происхождения, отбеливатели и комплекты ремонтных инструментов из стекловолокна.Сжатые газы, бутан, кислород, пропан и баллоны аквалангов.Яды, средства от насекомых, гербициды, мышьяк, цианиды, вещества инфекционного характера, бактерии, вирусы.Едкие вещества, ртуть, кислоты, щёлочи, жидкостный элемент батареек.Легковоспламеняющиеся жидкости и твердые материалы, бензин для зажигалок и печей, краска и все виды спичек.Радиоактивные материалы.',\n",
        "'Восстановить мили.': 'Автоматическое начисление миль происходит, если при бронировании или регистрации на рейс была предъявлена карта Участника или указан ее номер, а также персональные данные (фамилия, дата рождения и номер счёта S7 Priority) в билете полностью совпадают с данными в личном кабинете. Для зачисления миль системе требуется от 3 до 45 дней с момента полёта, в зависимости от аэропорта вылета.Если какой-то из Ваших полётов остался неучтенным, внесите данные о нём в форму [по ссылке](https://www.s7.ru/personal_account/ffpMilesRecovery.dot) Восстановить мили за полёты рейсами S7, совершенные Вами в качестве Участника, можно за предыдущие 12 месяцев. За полёты на рейсах авиакомпаний-партнёров — за 6 месяцев. Восстанавливая мили за полеты на рейсах партнеров, помните, что не все тарифы участвуют в начислении. Проверить это можно на страницах авиакомпаний-партнёров.',\n",
        "'Что входит в стоимость аренды авто, которую я оплачиваю на сайте?': 'В стоимость аренды входят неограниченный пробег, страховка от ущерба и угона с франшизой, НДС, дорожный сбор и различные дополнительные сборы (городской, аэропортовый и т.д. — в зависимости от страны и места аренды).'\n",
        "}\n"
      ],
      "execution_count": 0,
      "outputs": []
    },
    {
      "cell_type": "code",
      "metadata": {
        "id": "HBthExgU5P0G",
        "colab_type": "code",
        "colab": {},
        "outputId": "163f4b3e-87e1-4c3c-fbde-e760292ab915"
      },
      "source": [
        "question = nlp(' '.join(clean_text(remove_stop_words(lemmatize(input('Введите вопрос: \\n'))))))\n",
        "\n",
        "print(question)\n",
        "\n",
        "for_sort = []\n",
        "\n",
        "for i in faqs:\n",
        "    for_sort.append((question.similarity(nlp(' '.join(clean_text(remove_stop_words(lemmatize(i)))))), nlp(i).text))\n",
        "\n",
        "sorted_by_second = sorted(for_sort, key=lambda tup: tup[0], reverse=True)\n",
        "\n",
        "print(faqs[sorted_by_second[0][1]])"
      ],
      "execution_count": 0,
      "outputs": [
        {
          "output_type": "stream",
          "text": [
            "Введите вопрос: \n",
            "что нельзя возить в боинге\n",
            "нельзя возить боинг\n",
            "Огнестрельное оружие, охотничьи патроны, взрывчатые вещества, фейерверки, сигнальные ракеты.Окисленные материалы и перекиси органического происхождения, отбеливатели и комплекты ремонтных инструментов из стекловолокна.Сжатые газы, бутан, кислород, пропан и баллоны аквалангов.Яды, средства от насекомых, гербициды, мышьяк, цианиды, вещества инфекционного характера, бактерии, вирусы.Едкие вещества, ртуть, кислоты, щёлочи, жидкостный элемент батареек.Легковоспламеняющиеся жидкости и твердые материалы, бензин для зажигалок и печей, краска и все виды спичек.Радиоактивные материалы.\n"
          ],
          "name": "stdout"
        }
      ]
    },
    {
      "cell_type": "code",
      "metadata": {
        "id": "oMa456Ht5P0L",
        "colab_type": "code",
        "colab": {},
        "outputId": "ef90866a-f521-46c1-cfe3-e40a76525e09"
      },
      "source": [
        "!{sys.executable} -m pip install \"fuzzywuzzy\""
      ],
      "execution_count": 0,
      "outputs": [
        {
          "output_type": "stream",
          "text": [
            "Collecting fuzzywuzzy\n",
            "  Downloading fuzzywuzzy-0.18.0-py2.py3-none-any.whl (18 kB)\n",
            "Installing collected packages: fuzzywuzzy\n",
            "Successfully installed fuzzywuzzy-0.18.0\n"
          ],
          "name": "stdout"
        }
      ]
    },
    {
      "cell_type": "code",
      "metadata": {
        "id": "NYnu5Y_g5P0P",
        "colab_type": "code",
        "colab": {},
        "outputId": "763b5b0b-33e2-42ef-dc93-342bff8f392c"
      },
      "source": [
        ""
      ],
      "execution_count": 0,
      "outputs": [
        {
          "output_type": "execute_result",
          "data": {
            "text/plain": [
              "0.5808276450175823"
            ]
          },
          "metadata": {
            "tags": []
          },
          "execution_count": 47
        }
      ]
    },
    {
      "cell_type": "code",
      "metadata": {
        "id": "z1uhY5LZ5P0U",
        "colab_type": "code",
        "colab": {}
      },
      "source": [
        ""
      ],
      "execution_count": 0,
      "outputs": []
    }
  ]
}