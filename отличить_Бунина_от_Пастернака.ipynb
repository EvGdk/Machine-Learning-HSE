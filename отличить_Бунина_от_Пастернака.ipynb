{
  "nbformat": 4,
  "nbformat_minor": 0,
  "metadata": {
    "colab": {
      "name": "отличить Бунина от Пастернака",
      "provenance": [],
      "collapsed_sections": [],
      "authorship_tag": "ABX9TyOS39fd3Cd3BAG54PwshM2r",
      "include_colab_link": true
    },
    "kernelspec": {
      "name": "python3",
      "display_name": "Python 3"
    }
  },
  "cells": [
    {
      "cell_type": "markdown",
      "metadata": {
        "id": "view-in-github",
        "colab_type": "text"
      },
      "source": [
        "<a href=\"https://colab.research.google.com/github/EvGdk/Machine-Learning-HSE/blob/master/%D0%BE%D1%82%D0%BB%D0%B8%D1%87%D0%B8%D1%82%D1%8C_%D0%91%D1%83%D0%BD%D0%B8%D0%BD%D0%B0_%D0%BE%D1%82_%D0%9F%D0%B0%D1%81%D1%82%D0%B5%D1%80%D0%BD%D0%B0%D0%BA%D0%B0.ipynb\" target=\"_parent\"><img src=\"https://colab.research.google.com/assets/colab-badge.svg\" alt=\"Open In Colab\"/></a>"
      ]
    },
    {
      "cell_type": "code",
      "metadata": {
        "id": "z_DaOuONNjFC",
        "colab_type": "code",
        "outputId": "cff6e439-ca74-43c1-95f7-c6c9c601ec97",
        "colab": {
          "base_uri": "https://localhost:8080/",
          "height": 104
        }
      },
      "source": [
        "import pandas as pd\n",
        "import numpy as np\n",
        "from sklearn.naive_bayes import MultinomialNB\n",
        "from sklearn.model_selection import train_test_split\n",
        "from sklearn.feature_extraction.text import CountVectorizer\n",
        "from sklearn.metrics import classification_report\n",
        "import nltk\n",
        "from nltk.tokenize import word_tokenize\n",
        "from string import punctuation\n",
        "from nltk.corpus import stopwords\n",
        "nltk.download('stopwords')\n",
        "nltk.download('punkt')"
      ],
      "execution_count": 49,
      "outputs": [
        {
          "output_type": "stream",
          "text": [
            "[nltk_data] Downloading package stopwords to /root/nltk_data...\n",
            "[nltk_data]   Package stopwords is already up-to-date!\n",
            "[nltk_data] Downloading package punkt to /root/nltk_data...\n",
            "[nltk_data]   Package punkt is already up-to-date!\n"
          ],
          "name": "stdout"
        },
        {
          "output_type": "execute_result",
          "data": {
            "text/plain": [
              "True"
            ]
          },
          "metadata": {
            "tags": []
          },
          "execution_count": 49
        }
      ]
    },
    {
      "cell_type": "code",
      "metadata": {
        "id": "VdIoO0xuTo18",
        "colab_type": "code",
        "colab": {}
      },
      "source": [
        "from sklearn.linear_model import LogisticRegression"
      ],
      "execution_count": 0,
      "outputs": []
    },
    {
      "cell_type": "code",
      "metadata": {
        "id": "AUCIFM9bTGSQ",
        "colab_type": "code",
        "outputId": "82bc156b-073b-4573-bc71-32bd0686c961",
        "colab": {
          "base_uri": "https://localhost:8080/",
          "height": 107
        }
      },
      "source": [
        "! pip install pymorphy2"
      ],
      "execution_count": 63,
      "outputs": [
        {
          "output_type": "stream",
          "text": [
            "Requirement already satisfied: pymorphy2 in /usr/local/lib/python3.6/dist-packages (0.8)\n",
            "Requirement already satisfied: docopt>=0.6 in /usr/local/lib/python3.6/dist-packages (from pymorphy2) (0.6.2)\n",
            "Requirement already satisfied: pymorphy2-dicts<3.0,>=2.4 in /usr/local/lib/python3.6/dist-packages (from pymorphy2) (2.4.393442.3710985)\n",
            "Requirement already satisfied: dawg-python>=0.7 in /usr/local/lib/python3.6/dist-packages (from pymorphy2) (0.7.2)\n"
          ],
          "name": "stdout"
        }
      ]
    },
    {
      "cell_type": "code",
      "metadata": {
        "id": "Ai-KykaETJsY",
        "colab_type": "code",
        "colab": {}
      },
      "source": [
        "!pip -qq install rusenttokenize --progress-bar off"
      ],
      "execution_count": 0,
      "outputs": []
    },
    {
      "cell_type": "code",
      "metadata": {
        "id": "se68jpq7S8Nw",
        "colab_type": "code",
        "colab": {}
      },
      "source": [
        "import pymorphy2"
      ],
      "execution_count": 0,
      "outputs": []
    },
    {
      "cell_type": "code",
      "metadata": {
        "id": "x4y6FJfAvn_t",
        "colab_type": "code",
        "colab": {}
      },
      "source": [
        "from rusenttokenize import ru_sent_tokenize\n",
        "from nltk.corpus import stopwords\n",
        "from pymorphy2 import MorphAnalyzer\n",
        "pymorphy2_analyzer = MorphAnalyzer()\n",
        "import string"
      ],
      "execution_count": 0,
      "outputs": []
    },
    {
      "cell_type": "code",
      "metadata": {
        "id": "Ew0TeY86Ni_D",
        "colab_type": "code",
        "outputId": "8295f1f0-0850-4cca-9c2e-722556336193",
        "colab": {
          "resources": {
            "http://localhost:8080/nbextensions/google.colab/files.js": {
              "data": "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",
              "ok": true,
              "headers": [
                [
                  "content-type",
                  "application/javascript"
                ]
              ],
              "status": 200,
              "status_text": ""
            }
          },
          "base_uri": "https://localhost:8080/",
          "height": 113
        }
      },
      "source": [
        "from google.colab import files\n",
        "files.upload()"
      ],
      "execution_count": 8,
      "outputs": [
        {
          "output_type": "display_data",
          "data": {
            "text/html": [
              "\n",
              "     <input type=\"file\" id=\"files-c2811c4b-4432-45de-a455-c28df6ba3d8b\" name=\"files[]\" multiple disabled />\n",
              "     <output id=\"result-c2811c4b-4432-45de-a455-c28df6ba3d8b\">\n",
              "      Upload widget is only available when the cell has been executed in the\n",
              "      current browser session. Please rerun this cell to enable.\n",
              "      </output>\n",
              "      <script src=\"/nbextensions/google.colab/files.js\"></script> "
            ],
            "text/plain": [
              "<IPython.core.display.HTML object>"
            ]
          },
          "metadata": {
            "tags": []
          }
        },
        {
          "output_type": "stream",
          "text": [
            "Saving stop-words_russian_1_ru.txt to stop-words_russian_1_ru.txt\n"
          ],
          "name": "stdout"
        },
        {
          "output_type": "execute_result",
          "data": {
            "text/plain": [
              "{'stop-words_russian_1_ru.txt': b'\\xef\\xbb\\xbf\\xd0\\xb0\\r\\n\\xd0\\xb5\\r\\n\\xd0\\xb8\\r\\n\\xd0\\xb6\\r\\n\\xd0\\xbc\\r\\n\\xd0\\xbe\\r\\n\\xd0\\xbd\\xd0\\xb0\\r\\n\\xd0\\xbd\\xd0\\xb5\\r\\n\\xd0\\xbd\\xd0\\xb8\\r\\n\\xd0\\xbe\\xd0\\xb1\\r\\n\\xd0\\xbd\\xd0\\xbe\\r\\n\\xd0\\xbe\\xd0\\xbd\\r\\n\\xd0\\xbc\\xd0\\xbd\\xd0\\xb5\\r\\n\\xd0\\xbc\\xd0\\xbe\\xd0\\xb8\\r\\n\\xd0\\xbc\\xd0\\xbe\\xd0\\xb6\\r\\n\\xd0\\xbe\\xd0\\xbd\\xd0\\xb0\\r\\n\\xd0\\xbe\\xd0\\xbd\\xd0\\xb8\\r\\n\\xd0\\xbe\\xd0\\xbd\\xd0\\xbe\\r\\n\\xd0\\xbc\\xd0\\xbd\\xd0\\xbe\\xd0\\xb9\\r\\n\\xd0\\xbc\\xd0\\xbd\\xd0\\xbe\\xd0\\xb3\\xd0\\xbe\\r\\n\\xd0\\xbc\\xd0\\xbd\\xd0\\xbe\\xd0\\xb3\\xd0\\xbe\\xd1\\x87\\xd0\\xb8\\xd1\\x81\\xd0\\xbb\\xd0\\xb5\\xd0\\xbd\\xd0\\xbd\\xd0\\xbe\\xd0\\xb5\\r\\n\\xd0\\xbc\\xd0\\xbd\\xd0\\xbe\\xd0\\xb3\\xd0\\xbe\\xd1\\x87\\xd0\\xb8\\xd1\\x81\\xd0\\xbb\\xd0\\xb5\\xd0\\xbd\\xd0\\xbd\\xd0\\xb0\\xd1\\x8f\\r\\n\\xd0\\xbc\\xd0\\xbd\\xd0\\xbe\\xd0\\xb3\\xd0\\xbe\\xd1\\x87\\xd0\\xb8\\xd1\\x81\\xd0\\xbb\\xd0\\xb5\\xd0\\xbd\\xd0\\xbd\\xd1\\x8b\\xd0\\xb5\\r\\n\\xd0\\xbc\\xd0\\xbd\\xd0\\xbe\\xd0\\xb3\\xd0\\xbe\\xd1\\x87\\xd0\\xb8\\xd1\\x81\\xd0\\xbb\\xd0\\xb5\\xd0\\xbd\\xd0\\xbd\\xd1\\x8b\\xd0\\xb9\\r\\n\\xd0\\xbc\\xd0\\xbd\\xd0\\xbe\\xd1\\x8e\\r\\n\\xd0\\xbc\\xd0\\xbe\\xd0\\xb9\\r\\n\\xd0\\xbc\\xd0\\xbe\\xd0\\xb3\\r\\n\\xd0\\xbc\\xd0\\xbe\\xd0\\xb3\\xd1\\x83\\xd1\\x82\\r\\n\\xd0\\xbc\\xd0\\xbe\\xd0\\xb6\\xd0\\xbd\\xd0\\xbe\\r\\n\\xd0\\xbc\\xd0\\xbe\\xd0\\xb6\\xd0\\xb5\\xd1\\x82\\r\\n\\xd0\\xbc\\xd0\\xbe\\xd0\\xb6\\xd1\\x85\\xd0\\xbe\\r\\n\\xd0\\xbc\\xd0\\xbe\\xd1\\x80\\r\\n\\xd0\\xbc\\xd0\\xbe\\xd1\\x8f\\r\\n\\xd0\\xbc\\xd0\\xbe\\xd1\\x91\\r\\n\\xd0\\xbc\\xd0\\xbe\\xd1\\x87\\xd1\\x8c\\r\\n\\xd0\\xbd\\xd0\\xb0\\xd0\\xb4\\r\\n\\xd0\\xbd\\xd0\\xb5\\xd0\\xb5\\r\\n\\xd0\\xbe\\xd0\\xb1\\xd0\\xb0\\r\\n\\xd0\\xbd\\xd0\\xb0\\xd0\\xbc\\r\\n\\xd0\\xbd\\xd0\\xb5\\xd0\\xbc\\r\\n\\xd0\\xbd\\xd0\\xb0\\xd0\\xbc\\xd0\\xb8\\r\\n\\xd0\\xbd\\xd0\\xb8\\xd0\\xbc\\xd0\\xb8\\r\\n\\xd0\\xbc\\xd0\\xb8\\xd0\\xbc\\xd0\\xbe\\r\\n\\xd0\\xbd\\xd0\\xb5\\xd0\\xbc\\xd0\\xbd\\xd0\\xbe\\xd0\\xb3\\xd0\\xbe\\r\\n\\xd0\\xbe\\xd0\\xb4\\xd0\\xbd\\xd0\\xbe\\xd0\\xb9\\r\\n\\xd0\\xbe\\xd0\\xb4\\xd0\\xbd\\xd0\\xbe\\xd0\\xb3\\xd0\\xbe\\r\\n\\xd0\\xbc\\xd0\\xb5\\xd0\\xbd\\xd0\\xb5\\xd0\\xb5\\r\\n\\xd0\\xbe\\xd0\\xb4\\xd0\\xbd\\xd0\\xb0\\xd0\\xb6\\xd0\\xb4\\xd1\\x8b\\r\\n\\xd0\\xbe\\xd0\\xb4\\xd0\\xbd\\xd0\\xb0\\xd0\\xba\\xd0\\xbe\\r\\n\\xd0\\xbc\\xd0\\xb5\\xd0\\xbd\\xd1\\x8f\\r\\n\\xd0\\xbd\\xd0\\xb5\\xd0\\xbc\\xd1\\x83\\r\\n\\xd0\\xbc\\xd0\\xb5\\xd0\\xbd\\xd1\\x8c\\xd1\\x88\\xd0\\xb5\\r\\n\\xd0\\xbd\\xd0\\xb5\\xd0\\xb9\\r\\n\\xd0\\xbd\\xd0\\xb0\\xd0\\xb2\\xd0\\xb5\\xd1\\x80\\xd1\\x85\\xd1\\x83\\r\\n\\xd0\\xbd\\xd0\\xb5\\xd0\\xb3\\xd0\\xbe\\r\\n\\xd0\\xbd\\xd0\\xb8\\xd0\\xb6\\xd0\\xb5\\r\\n\\xd0\\xbc\\xd0\\xb0\\xd0\\xbb\\xd0\\xbe\\r\\n\\xd0\\xbd\\xd0\\xb0\\xd0\\xb4\\xd0\\xbe\\r\\n\\xd0\\xbe\\xd0\\xb4\\xd0\\xb8\\xd0\\xbd\\r\\n\\xd0\\xbe\\xd0\\xb4\\xd0\\xb8\\xd0\\xbd\\xd0\\xbd\\xd0\\xb0\\xd0\\xb4\\xd1\\x86\\xd0\\xb0\\xd1\\x82\\xd1\\x8c\\r\\n\\xd0\\xbe\\xd0\\xb4\\xd0\\xb8\\xd0\\xbd\\xd0\\xbd\\xd0\\xb0\\xd0\\xb4\\xd1\\x86\\xd0\\xb0\\xd1\\x82\\xd1\\x8b\\xd0\\xb9\\r\\n\\xd0\\xbd\\xd0\\xb0\\xd0\\xb7\\xd0\\xb0\\xd0\\xb4\\r\\n\\xd0\\xbd\\xd0\\xb0\\xd0\\xb8\\xd0\\xb1\\xd0\\xbe\\xd0\\xbb\\xd0\\xb5\\xd0\\xb5\\r\\n\\xd0\\xbd\\xd0\\xb5\\xd0\\xb4\\xd0\\xb0\\xd0\\xb2\\xd0\\xbd\\xd0\\xbe\\r\\n\\xd0\\xbc\\xd0\\xb8\\xd0\\xbb\\xd0\\xbb\\xd0\\xb8\\xd0\\xbe\\xd0\\xbd\\xd0\\xbe\\xd0\\xb2\\r\\n\\xd0\\xbd\\xd0\\xb5\\xd0\\xb4\\xd0\\xb0\\xd0\\xbb\\xd0\\xb5\\xd0\\xba\\xd0\\xbe\\r\\n\\xd0\\xbc\\xd0\\xb5\\xd0\\xb6\\xd0\\xb4\\xd1\\x83\\r\\n\\xd0\\xbd\\xd0\\xb8\\xd0\\xb7\\xd0\\xba\\xd0\\xbe\\r\\n\\xd0\\xbc\\xd0\\xb5\\xd0\\xbb\\xd1\\x8f\\r\\n\\xd0\\xbd\\xd0\\xb5\\xd0\\xbb\\xd1\\x8c\\xd0\\xb7\\xd1\\x8f\\r\\n\\xd0\\xbd\\xd0\\xb8\\xd0\\xb1\\xd1\\x83\\xd0\\xb4\\xd1\\x8c\\r\\n\\xd0\\xbd\\xd0\\xb5\\xd0\\xbf\\xd1\\x80\\xd0\\xb5\\xd1\\x80\\xd1\\x8b\\xd0\\xb2\\xd0\\xbd\\xd0\\xbe\\r\\n\\xd0\\xbd\\xd0\\xb0\\xd0\\xba\\xd0\\xbe\\xd0\\xbd\\xd0\\xb5\\xd1\\x86\\r\\n\\xd0\\xbd\\xd0\\xb8\\xd0\\xba\\xd0\\xbe\\xd0\\xb3\\xd0\\xb4\\xd0\\xb0\\r\\n\\xd0\\xbd\\xd0\\xb8\\xd0\\xba\\xd1\\x83\\xd0\\xb4\\xd0\\xb0\\r\\n\\xd0\\xbd\\xd0\\xb0\\xd1\\x81\\r\\n\\xd0\\xbd\\xd0\\xb0\\xd1\\x88\\r\\n\\xd0\\xbd\\xd0\\xb5\\xd1\\x82\\r\\n\\xd0\\xbd\\xd0\\xb5\\xd1\\x8e\\r\\n\\xd0\\xbd\\xd0\\xb5\\xd1\\x91\\r\\n\\xd0\\xbd\\xd0\\xb8\\xd1\\x85\\r\\n\\xd0\\xbc\\xd0\\xb8\\xd1\\x80\\xd0\\xb0\\r\\n\\xd0\\xbd\\xd0\\xb0\\xd1\\x88\\xd0\\xb0\\r\\n\\xd0\\xbd\\xd0\\xb0\\xd1\\x88\\xd0\\xb5\\r\\n\\xd0\\xbd\\xd0\\xb0\\xd1\\x88\\xd0\\xb8\\r\\n\\xd0\\xbd\\xd0\\xb8\\xd1\\x87\\xd0\\xb5\\xd0\\xb3\\xd0\\xbe\\r\\n\\xd0\\xbd\\xd0\\xb0\\xd1\\x87\\xd0\\xb0\\xd0\\xbb\\xd0\\xb0\\r\\n\\xd0\\xbd\\xd0\\xb5\\xd1\\x80\\xd0\\xb5\\xd0\\xb4\\xd0\\xba\\xd0\\xbe\\r\\n\\xd0\\xbd\\xd0\\xb5\\xd1\\x81\\xd0\\xba\\xd0\\xbe\\xd0\\xbb\\xd1\\x8c\\xd0\\xba\\xd0\\xbe\\r\\n\\xd0\\xbe\\xd0\\xb1\\xd1\\x8b\\xd1\\x87\\xd0\\xbd\\xd0\\xbe\\r\\n\\xd0\\xbe\\xd0\\xbf\\xd1\\x8f\\xd1\\x82\\xd1\\x8c\\r\\n\\xd0\\xbe\\xd0\\xba\\xd0\\xbe\\xd0\\xbb\\xd0\\xbe\\r\\n\\xd0\\xbc\\xd1\\x8b\\r\\n\\xd0\\xbd\\xd1\\x83\\r\\n\\xd0\\xbd\\xd1\\x85\\r\\n\\xd0\\xbe\\xd1\\x82\\r\\n\\xd0\\xbe\\xd1\\x82\\xd0\\xbe\\xd0\\xb2\\xd1\\x81\\xd1\\x8e\\xd0\\xb4\\xd1\\x83\\r\\n\\xd0\\xbe\\xd1\\x81\\xd0\\xbe\\xd0\\xb1\\xd0\\xb5\\xd0\\xbd\\xd0\\xbd\\xd0\\xbe\\r\\n\\xd0\\xbd\\xd1\\x83\\xd0\\xb6\\xd0\\xbd\\xd0\\xbe\\r\\n\\xd0\\xbe\\xd1\\x87\\xd0\\xb5\\xd0\\xbd\\xd1\\x8c\\r\\n\\xd0\\xbe\\xd1\\x82\\xd1\\x81\\xd1\\x8e\\xd0\\xb4\\xd0\\xb0\\r\\n\\xd0\\xb2\\r\\n\\xd0\\xb2\\xd0\\xbe\\r\\n\\xd0\\xb2\\xd0\\xbe\\xd0\\xbd\\r\\n\\xd0\\xb2\\xd0\\xbd\\xd0\\xb8\\xd0\\xb7\\r\\n\\xd0\\xb2\\xd0\\xbd\\xd0\\xb8\\xd0\\xb7\\xd1\\x83\\r\\n\\xd0\\xb2\\xd0\\xbe\\xd0\\xba\\xd1\\x80\\xd1\\x83\\xd0\\xb3\\r\\n\\xd0\\xb2\\xd0\\xbe\\xd1\\x82\\r\\n\\xd0\\xb2\\xd0\\xbe\\xd1\\x81\\xd0\\xb5\\xd0\\xbc\\xd0\\xbd\\xd0\\xb0\\xd0\\xb4\\xd1\\x86\\xd0\\xb0\\xd1\\x82\\xd1\\x8c\\r\\n\\xd0\\xb2\\xd0\\xbe\\xd1\\x81\\xd0\\xb5\\xd0\\xbc\\xd0\\xbd\\xd0\\xb0\\xd0\\xb4\\xd1\\x86\\xd0\\xb0\\xd1\\x82\\xd1\\x8b\\xd0\\xb9\\r\\n\\xd0\\xb2\\xd0\\xbe\\xd1\\x81\\xd0\\xb5\\xd0\\xbc\\xd1\\x8c\\r\\n\\xd0\\xb2\\xd0\\xbe\\xd1\\x81\\xd1\\x8c\\xd0\\xbc\\xd0\\xbe\\xd0\\xb9\\r\\n\\xd0\\xb2\\xd0\\xb2\\xd0\\xb5\\xd1\\x80\\xd1\\x85\\r\\n\\xd0\\xb2\\xd0\\xb0\\xd0\\xbc\\r\\n\\xd0\\xb2\\xd0\\xb0\\xd0\\xbc\\xd0\\xb8\\r\\n\\xd0\\xb2\\xd0\\xb0\\xd0\\xb6\\xd0\\xbd\\xd0\\xbe\\xd0\\xb5\\r\\n\\xd0\\xb2\\xd0\\xb0\\xd0\\xb6\\xd0\\xbd\\xd0\\xb0\\xd1\\x8f\\r\\n\\xd0\\xb2\\xd0\\xb0\\xd0\\xb6\\xd0\\xbd\\xd1\\x8b\\xd0\\xb5\\r\\n\\xd0\\xb2\\xd0\\xb0\\xd0\\xb6\\xd0\\xbd\\xd1\\x8b\\xd0\\xb9\\r\\n\\xd0\\xb2\\xd0\\xb4\\xd0\\xb0\\xd0\\xbb\\xd0\\xb8\\r\\n\\xd0\\xb2\\xd0\\xb5\\xd0\\xb7\\xd0\\xb4\\xd0\\xb5\\r\\n\\xd0\\xb2\\xd0\\xb5\\xd0\\xb4\\xd1\\x8c\\r\\n\\xd0\\xb2\\xd0\\xb0\\xd1\\x81\\r\\n\\xd0\\xb2\\xd0\\xb0\\xd1\\x88\\r\\n\\xd0\\xb2\\xd0\\xb0\\xd1\\x88\\xd0\\xb0\\r\\n\\xd0\\xb2\\xd0\\xb0\\xd1\\x88\\xd0\\xb5\\r\\n\\xd0\\xb2\\xd0\\xb0\\xd1\\x88\\xd0\\xb8\\r\\n\\xd0\\xb2\\xd0\\xbf\\xd1\\x80\\xd0\\xbe\\xd1\\x87\\xd0\\xb5\\xd0\\xbc\\r\\n\\xd0\\xb2\\xd0\\xb5\\xd1\\x81\\xd1\\x8c\\r\\n\\xd0\\xb2\\xd0\\xb4\\xd1\\x80\\xd1\\x83\\xd0\\xb3\\r\\n\\xd0\\xb2\\xd1\\x8b\\r\\n\\xd0\\xb2\\xd1\\x81\\xd0\\xb5\\r\\n\\xd0\\xb2\\xd1\\x82\\xd0\\xbe\\xd1\\x80\\xd0\\xbe\\xd0\\xb9\\r\\n\\xd0\\xb2\\xd1\\x81\\xd0\\xb5\\xd0\\xbc\\r\\n\\xd0\\xb2\\xd1\\x81\\xd0\\xb5\\xd0\\xbc\\xd0\\xb8\\r\\n\\xd0\\xb2\\xd1\\x80\\xd0\\xb5\\xd0\\xbc\\xd0\\xb5\\xd0\\xbd\\xd0\\xb8\\r\\n\\xd0\\xb2\\xd1\\x80\\xd0\\xb5\\xd0\\xbc\\xd1\\x8f\\r\\n\\xd0\\xb2\\xd1\\x81\\xd0\\xb5\\xd0\\xbc\\xd1\\x83\\r\\n\\xd0\\xb2\\xd1\\x81\\xd0\\xb5\\xd0\\xb3\\xd0\\xbe\\r\\n\\xd0\\xb2\\xd1\\x81\\xd0\\xb5\\xd0\\xb3\\xd0\\xb4\\xd0\\xb0\\r\\n\\xd0\\xb2\\xd1\\x81\\xd0\\xb5\\xd1\\x85\\r\\n\\xd0\\xb2\\xd1\\x81\\xd0\\xb5\\xd1\\x8e\\r\\n\\xd0\\xb2\\xd1\\x81\\xd1\\x8e\\r\\n\\xd0\\xb2\\xd1\\x81\\xd1\\x8f\\r\\n\\xd0\\xb2\\xd1\\x81\\xd1\\x91\\r\\n\\xd0\\xb2\\xd1\\x81\\xd1\\x8e\\xd0\\xb4\\xd1\\x83\\r\\n\\xd0\\xb3\\r\\n\\xd0\\xb3\\xd0\\xbe\\xd0\\xb4\\r\\n\\xd0\\xb3\\xd0\\xbe\\xd0\\xb2\\xd0\\xbe\\xd1\\x80\\xd0\\xb8\\xd0\\xbb\\r\\n\\xd0\\xb3\\xd0\\xbe\\xd0\\xb2\\xd0\\xbe\\xd1\\x80\\xd0\\xb8\\xd1\\x82\\r\\n\\xd0\\xb3\\xd0\\xbe\\xd0\\xb4\\xd0\\xb0\\r\\n\\xd0\\xb3\\xd0\\xbe\\xd0\\xb4\\xd1\\x83\\r\\n\\xd0\\xb3\\xd0\\xb4\\xd0\\xb5\\r\\n\\xd0\\xb4\\xd0\\xb0\\r\\n\\xd0\\xb5\\xd0\\xb5\\r\\n\\xd0\\xb7\\xd0\\xb0\\r\\n\\xd0\\xb8\\xd0\\xb7\\r\\n\\xd0\\xbb\\xd0\\xb8\\r\\n\\xd0\\xb6\\xd0\\xb5\\r\\n\\xd0\\xb8\\xd0\\xbc\\r\\n\\xd0\\xb4\\xd0\\xbe\\r\\n\\xd0\\xbf\\xd0\\xbe\\r\\n\\xd0\\xb8\\xd0\\xbc\\xd0\\xb8\\r\\n\\xd0\\xbf\\xd0\\xbe\\xd0\\xb4\\r\\n\\xd0\\xb8\\xd0\\xbd\\xd0\\xbe\\xd0\\xb3\\xd0\\xb4\\xd0\\xb0\\r\\n\\xd0\\xb4\\xd0\\xbe\\xd0\\xb2\\xd0\\xbe\\xd0\\xbb\\xd1\\x8c\\xd0\\xbd\\xd0\\xbe\\r\\n\\xd0\\xb8\\xd0\\xbc\\xd0\\xb5\\xd0\\xbd\\xd0\\xbd\\xd0\\xbe\\r\\n\\xd0\\xb4\\xd0\\xbe\\xd0\\xbb\\xd0\\xb3\\xd0\\xbe\\r\\n\\xd0\\xbf\\xd0\\xbe\\xd0\\xb7\\xd0\\xb6\\xd0\\xb5\\r\\n\\xd0\\xb1\\xd0\\xbe\\xd0\\xbb\\xd0\\xb5\\xd0\\xb5\\r\\n\\xd0\\xb4\\xd0\\xbe\\xd0\\xbb\\xd0\\xb6\\xd0\\xbd\\xd0\\xbe\\r\\n\\xd0\\xbf\\xd0\\xbe\\xd0\\xb6\\xd0\\xb0\\xd0\\xbb\\xd1\\x83\\xd0\\xb9\\xd1\\x81\\xd1\\x82\\xd0\\xb0\\r\\n\\xd0\\xb7\\xd0\\xbd\\xd0\\xb0\\xd1\\x87\\xd0\\xb8\\xd1\\x82\\r\\n\\xd0\\xb8\\xd0\\xbc\\xd0\\xb5\\xd1\\x82\\xd1\\x8c\\r\\n\\xd0\\xb1\\xd0\\xbe\\xd0\\xbb\\xd1\\x8c\\xd1\\x88\\xd0\\xb5\\r\\n\\xd0\\xbf\\xd0\\xbe\\xd0\\xba\\xd0\\xb0\\r\\n\\xd0\\xb5\\xd0\\xbc\\xd1\\x83\\r\\n\\xd0\\xb8\\xd0\\xbc\\xd1\\x8f\\r\\n\\xd0\\xbf\\xd0\\xbe\\xd1\\x80\\r\\n\\xd0\\xbf\\xd0\\xbe\\xd1\\x80\\xd0\\xb0\\r\\n\\xd0\\xbf\\xd0\\xbe\\xd1\\x82\\xd0\\xbe\\xd0\\xbc\\r\\n\\xd0\\xbf\\xd0\\xbe\\xd1\\x82\\xd0\\xbe\\xd0\\xbc\\xd1\\x83\\r\\n\\xd0\\xbf\\xd0\\xbe\\xd1\\x81\\xd0\\xbb\\xd0\\xb5\\r\\n\\xd0\\xbf\\xd0\\xbe\\xd1\\x87\\xd0\\xb5\\xd0\\xbc\\xd1\\x83\\r\\n\\xd0\\xbf\\xd0\\xbe\\xd1\\x87\\xd1\\x82\\xd0\\xb8\\r\\n\\xd0\\xbf\\xd0\\xbe\\xd1\\x81\\xd1\\x80\\xd0\\xb5\\xd0\\xb4\\xd0\\xb8\\r\\n\\xd0\\xb5\\xd0\\xb9\\r\\n\\xd0\\xb4\\xd0\\xb2\\xd0\\xb0\\r\\n\\xd0\\xb4\\xd0\\xb2\\xd0\\xb5\\r\\n\\xd0\\xb4\\xd0\\xb2\\xd0\\xb5\\xd0\\xbd\\xd0\\xb0\\xd0\\xb4\\xd1\\x86\\xd0\\xb0\\xd1\\x82\\xd1\\x8c\\r\\n\\xd0\\xb4\\xd0\\xb2\\xd0\\xb5\\xd0\\xbd\\xd0\\xb0\\xd0\\xb4\\xd1\\x86\\xd0\\xb0\\xd1\\x82\\xd1\\x8b\\xd0\\xb9\\r\\n\\xd0\\xb4\\xd0\\xb2\\xd0\\xb0\\xd0\\xb4\\xd1\\x86\\xd0\\xb0\\xd1\\x82\\xd1\\x8c\\r\\n\\xd0\\xb4\\xd0\\xb2\\xd0\\xb0\\xd0\\xb4\\xd1\\x86\\xd0\\xb0\\xd1\\x82\\xd1\\x8b\\xd0\\xb9\\r\\n\\xd0\\xb4\\xd0\\xb2\\xd1\\x83\\xd1\\x85\\r\\n\\xd0\\xb5\\xd0\\xb3\\xd0\\xbe\\r\\n\\xd0\\xb4\\xd0\\xb5\\xd0\\xbb\\r\\n\\xd0\\xb8\\xd0\\xbb\\xd0\\xb8\\r\\n\\xd0\\xb1\\xd0\\xb5\\xd0\\xb7\\r\\n\\xd0\\xb4\\xd0\\xb5\\xd0\\xbd\\xd1\\x8c\\r\\n\\xd0\\xb7\\xd0\\xb0\\xd0\\xbd\\xd1\\x8f\\xd1\\x82\\r\\n\\xd0\\xb7\\xd0\\xb0\\xd0\\xbd\\xd1\\x8f\\xd1\\x82\\xd0\\xb0\\r\\n\\xd0\\xb7\\xd0\\xb0\\xd0\\xbd\\xd1\\x8f\\xd1\\x82\\xd0\\xbe\\r\\n\\xd0\\xb7\\xd0\\xb0\\xd0\\xbd\\xd1\\x8f\\xd1\\x82\\xd1\\x8b\\r\\n\\xd0\\xb4\\xd0\\xb5\\xd0\\xb9\\xd1\\x81\\xd1\\x82\\xd0\\xb2\\xd0\\xb8\\xd1\\x82\\xd0\\xb5\\xd0\\xbb\\xd1\\x8c\\xd0\\xbd\\xd0\\xbe\\r\\n\\xd0\\xb4\\xd0\\xb0\\xd0\\xb2\\xd0\\xbd\\xd0\\xbe\\r\\n\\xd0\\xb4\\xd0\\xb5\\xd0\\xb2\\xd1\\x8f\\xd1\\x82\\xd0\\xbd\\xd0\\xb0\\xd0\\xb4\\xd1\\x86\\xd0\\xb0\\xd1\\x82\\xd1\\x8c\\r\\n\\xd0\\xb4\\xd0\\xb5\\xd0\\xb2\\xd1\\x8f\\xd1\\x82\\xd0\\xbd\\xd0\\xb0\\xd0\\xb4\\xd1\\x86\\xd0\\xb0\\xd1\\x82\\xd1\\x8b\\xd0\\xb9\\r\\n\\xd0\\xb4\\xd0\\xb5\\xd0\\xb2\\xd1\\x8f\\xd1\\x82\\xd1\\x8c\\r\\n\\xd0\\xb4\\xd0\\xb5\\xd0\\xb2\\xd1\\x8f\\xd1\\x82\\xd1\\x8b\\xd0\\xb9\\r\\n\\xd0\\xb4\\xd0\\xb0\\xd0\\xb6\\xd0\\xb5\\r\\n\\xd0\\xb0\\xd0\\xbb\\xd0\\xbb\\xd0\\xbe\\r\\n\\xd0\\xb6\\xd0\\xb8\\xd0\\xb7\\xd0\\xbd\\xd1\\x8c\\r\\n\\xd0\\xb4\\xd0\\xb0\\xd0\\xbb\\xd0\\xb5\\xd0\\xba\\xd0\\xbe\\r\\n\\xd0\\xb1\\xd0\\xbb\\xd0\\xb8\\xd0\\xb7\\xd0\\xba\\xd0\\xbe\\r\\n\\xd0\\xb7\\xd0\\xb4\\xd0\\xb5\\xd1\\x81\\xd1\\x8c\\r\\n\\xd0\\xb4\\xd0\\xb0\\xd0\\xbb\\xd1\\x8c\\xd1\\x88\\xd0\\xb5\\r\\n\\xd0\\xb4\\xd0\\xbb\\xd1\\x8f\\r\\n\\xd0\\xbb\\xd0\\xb5\\xd1\\x82\\r\\n\\xd0\\xb7\\xd0\\xb0\\xd1\\x82\\xd0\\xbe\\r\\n\\xd0\\xb4\\xd0\\xb0\\xd1\\x80\\xd0\\xbe\\xd0\\xbc\\r\\n\\xd0\\xbf\\xd0\\xb5\\xd1\\x80\\xd0\\xb2\\xd1\\x8b\\xd0\\xb9\\r\\n\\xd0\\xbf\\xd0\\xb5\\xd1\\x80\\xd0\\xb5\\xd0\\xb4\\r\\n\\xd0\\xb7\\xd0\\xb0\\xd1\\x82\\xd0\\xb5\\xd0\\xbc\\r\\n\\xd0\\xb7\\xd0\\xb0\\xd1\\x87\\xd0\\xb5\\xd0\\xbc\\r\\n\\xd0\\xbb\\xd0\\xb8\\xd1\\x88\\xd1\\x8c\\r\\n\\xd0\\xb4\\xd0\\xb5\\xd1\\x81\\xd1\\x8f\\xd1\\x82\\xd1\\x8c\\r\\n\\xd0\\xb4\\xd0\\xb5\\xd1\\x81\\xd1\\x8f\\xd1\\x82\\xd1\\x8b\\xd0\\xb9\\r\\n\\xd0\\xb5\\xd1\\x8e\\r\\n\\xd0\\xb5\\xd1\\x91\\r\\n\\xd0\\xb8\\xd1\\x85\\r\\n\\xd0\\xb1\\xd1\\x8b\\r\\n\\xd0\\xb5\\xd1\\x89\\xd0\\xb5\\r\\n\\xd0\\xbf\\xd1\\x80\\xd0\\xb8\\r\\n\\xd0\\xb1\\xd1\\x8b\\xd0\\xbb\\r\\n\\xd0\\xbf\\xd1\\x80\\xd0\\xbe\\r\\n\\xd0\\xbf\\xd1\\x80\\xd0\\xbe\\xd1\\x86\\xd0\\xb5\\xd0\\xbd\\xd1\\x82\\xd0\\xbe\\xd0\\xb2\\r\\n\\xd0\\xbf\\xd1\\x80\\xd0\\xbe\\xd1\\x82\\xd0\\xb8\\xd0\\xb2\\r\\n\\xd0\\xbf\\xd1\\x80\\xd0\\xbe\\xd1\\x81\\xd1\\x82\\xd0\\xbe\\r\\n\\xd0\\xb1\\xd1\\x8b\\xd0\\xb2\\xd0\\xb0\\xd0\\xb5\\xd1\\x82\\r\\n\\xd0\\xb1\\xd1\\x8b\\xd0\\xb2\\xd1\\x8c\\r\\n\\xd0\\xb5\\xd1\\x81\\xd0\\xbb\\xd0\\xb8\\r\\n\\xd0\\xbb\\xd1\\x8e\\xd0\\xb4\\xd0\\xb8\\r\\n\\xd0\\xb1\\xd1\\x8b\\xd0\\xbb\\xd0\\xb0\\r\\n\\xd0\\xb1\\xd1\\x8b\\xd0\\xbb\\xd0\\xb8\\r\\n\\xd0\\xb1\\xd1\\x8b\\xd0\\xbb\\xd0\\xbe\\r\\n\\xd0\\xb1\\xd1\\x83\\xd0\\xb4\\xd0\\xb5\\xd0\\xbc\\r\\n\\xd0\\xb1\\xd1\\x83\\xd0\\xb4\\xd0\\xb5\\xd1\\x82\\r\\n\\xd0\\xb1\\xd1\\x83\\xd0\\xb4\\xd0\\xb5\\xd1\\x82\\xd0\\xb5\\r\\n\\xd0\\xb1\\xd1\\x83\\xd0\\xb4\\xd0\\xb5\\xd1\\x88\\xd1\\x8c\\r\\n\\xd0\\xbf\\xd1\\x80\\xd0\\xb5\\xd0\\xba\\xd1\\x80\\xd0\\xb0\\xd1\\x81\\xd0\\xbd\\xd0\\xbe\\r\\n\\xd0\\xb1\\xd1\\x83\\xd0\\xb4\\xd1\\x83\\r\\n\\xd0\\xb5\\xd1\\x91\\r\\n\\xd0\\xbe\\xd0\\xbd\\xd0\\xb0\\r\\n\\xd0\\xb5\\xd1\\x89\\xd1\\x91\\r\\n\\xd0\\xbf\\xd0\\xbe\\xd1\\x82\\xd0\\xbe\\xd0\\xbc\\r\\n\\xd0\\xb2\\xd1\\x81\\xd1\\x91\\r\\n\\xd0\\xb5\\xd0\\xb3\\xd0\\xbe\\r\\n\\xd1\\x81\\xd0\\xbe\\xd0\\xb2\\xd1\\x81\\xd0\\xb5\\xd0\\xbc\\r\\n\\xd0\\xbe\\xd1\\x87\\xd0\\xb5\\xd0\\xbd\\xd1\\x8c\\r\\n\\xd0\\xb1\\xd1\\x83\\xd0\\xb4\\xd1\\x8c\\r\\n\\xd0\\xb1\\xd1\\x83\\xd0\\xb4\\xd1\\x82\\xd0\\xbe\\r\\n\\xd0\\xb1\\xd1\\x83\\xd0\\xb4\\xd1\\x83\\xd1\\x82\\r\\n\\xd0\\xbd\\xd0\\xb0\\xd1\\x82\\xd0\\xb0\\xd0\\xbb\\xd0\\xb8\\r\\n\\xd1\\x84\\xd1\\x80\\xd0\\xb0\\xd0\\xbd\\xd1\\x86\\r\\n\\xd0\\xb3\\xd0\\xb5\\xd0\\xbd\\xd1\\x80\\xd0\\xb8\\xd1\\x85\\r\\n\\xd0\\xbf\\xd1\\x8f\\xd1\\x82\\xd0\\xbd\\xd0\\xb0\\xd0\\xb4\\xd1\\x86\\xd0\\xb0\\xd1\\x82\\xd1\\x8c\\r\\n\\xd0\\xbf\\xd1\\x8f\\xd1\\x82\\xd0\\xbd\\xd0\\xb0\\xd0\\xb4\\xd1\\x86\\xd0\\xb0\\xd1\\x82\\xd1\\x8b\\xd0\\xb9\\r\\n\\xd0\\xb4\\xd1\\x80\\xd1\\x83\\xd0\\xb3\\xd0\\xbe\\r\\n\\xd0\\xb4\\xd1\\x80\\xd1\\x83\\xd0\\xb3\\xd0\\xbe\\xd0\\xb5\\r\\n\\xd0\\xb4\\xd1\\x80\\xd1\\x83\\xd0\\xb3\\xd0\\xbe\\xd0\\xb9\\r\\n\\xd0\\xb4\\xd1\\x80\\xd1\\x83\\xd0\\xb3\\xd0\\xb8\\xd0\\xb5\\r\\n\\xd0\\xb4\\xd1\\x80\\xd1\\x83\\xd0\\xb3\\xd0\\xb0\\xd1\\x8f\\r\\n\\xd0\\xb4\\xd1\\x80\\xd1\\x83\\xd0\\xb3\\xd0\\xb8\\xd1\\x85\\r\\n\\xd0\\xb5\\xd1\\x81\\xd1\\x82\\xd1\\x8c\\r\\n\\xd0\\xbf\\xd1\\x8f\\xd1\\x82\\xd1\\x8c\\r\\n\\xd0\\xb1\\xd1\\x8b\\xd1\\x82\\xd1\\x8c\\r\\n\\xd0\\xbb\\xd1\\x83\\xd1\\x87\\xd1\\x88\\xd0\\xb5\\r\\n\\xd0\\xbf\\xd1\\x8f\\xd1\\x82\\xd1\\x8b\\xd0\\xb9\\r\\n\\xd0\\xba\\r\\n\\xd0\\xba\\xd0\\xbe\\xd0\\xbc\\r\\n\\xd0\\xba\\xd0\\xbe\\xd0\\xbd\\xd0\\xb5\\xd1\\x87\\xd0\\xbd\\xd0\\xbe\\r\\n\\xd0\\xba\\xd0\\xbe\\xd0\\xbc\\xd1\\x83\\r\\n\\xd0\\xba\\xd0\\xbe\\xd0\\xb3\\xd0\\xbe\\r\\n\\xd0\\xba\\xd0\\xbe\\xd0\\xb3\\xd0\\xb4\\xd0\\xb0\\r\\n\\xd0\\xba\\xd0\\xbe\\xd1\\x82\\xd0\\xbe\\xd1\\x80\\xd0\\xbe\\xd0\\xb9\\r\\n\\xd0\\xba\\xd0\\xbe\\xd1\\x82\\xd0\\xbe\\xd1\\x80\\xd0\\xbe\\xd0\\xb3\\xd0\\xbe\\r\\n\\xd0\\xba\\xd0\\xbe\\xd1\\x82\\xd0\\xbe\\xd1\\x80\\xd0\\xb0\\xd1\\x8f\\r\\n\\xd0\\xba\\xd0\\xbe\\xd1\\x82\\xd0\\xbe\\xd1\\x80\\xd1\\x8b\\xd0\\xb5\\r\\n\\xd0\\xba\\xd0\\xbe\\xd1\\x82\\xd0\\xbe\\xd1\\x80\\xd1\\x8b\\xd0\\xb9\\r\\n\\xd0\\xba\\xd0\\xbe\\xd1\\x82\\xd0\\xbe\\xd1\\x80\\xd1\\x8b\\xd1\\x85\\r\\n\\xd0\\xba\\xd0\\xb5\\xd0\\xbc\\r\\n\\xd0\\xba\\xd0\\xb0\\xd0\\xb6\\xd0\\xb4\\xd0\\xbe\\xd0\\xb5\\r\\n\\xd0\\xba\\xd0\\xb0\\xd0\\xb6\\xd0\\xb4\\xd0\\xb0\\xd1\\x8f\\r\\n\\xd0\\xba\\xd0\\xb0\\xd0\\xb6\\xd0\\xb4\\xd1\\x8b\\xd0\\xb5\\r\\n\\xd0\\xba\\xd0\\xb0\\xd0\\xb6\\xd0\\xb4\\xd1\\x8b\\xd0\\xb9\\r\\n\\xd0\\xba\\xd0\\xb0\\xd0\\xb6\\xd0\\xb5\\xd1\\x82\\xd1\\x81\\xd1\\x8f\\r\\n\\xd0\\xba\\xd0\\xb0\\xd0\\xba\\r\\n\\xd0\\xba\\xd0\\xb0\\xd0\\xba\\xd0\\xbe\\xd0\\xb9\\r\\n\\xd0\\xba\\xd0\\xb0\\xd0\\xba\\xd0\\xb0\\xd1\\x8f\\r\\n\\xd0\\xba\\xd1\\x82\\xd0\\xbe\\r\\n\\xd0\\xba\\xd1\\x80\\xd0\\xbe\\xd0\\xbc\\xd0\\xb5\\r\\n\\xd0\\xba\\xd1\\x83\\xd0\\xb4\\xd0\\xb0\\r\\n\\xd0\\xba\\xd1\\x80\\xd1\\x83\\xd0\\xb3\\xd0\\xbe\\xd0\\xbc\\r\\n\\xd1\\x81\\r\\n\\xd1\\x82\\r\\n\\xd1\\x83\\r\\n\\xd1\\x8f\\r\\n\\xd1\\x82\\xd0\\xb0\\r\\n\\xd1\\x82\\xd0\\xb5\\r\\n\\xd1\\x83\\xd0\\xb6\\r\\n\\xd1\\x81\\xd0\\xbe\\r\\n\\xd1\\x82\\xd0\\xbe\\r\\n\\xd1\\x82\\xd0\\xbe\\xd0\\xbc\\r\\n\\xd1\\x81\\xd0\\xbd\\xd0\\xbe\\xd0\\xb2\\xd0\\xb0\\r\\n\\xd1\\x82\\xd0\\xbe\\xd0\\xbc\\xd1\\x83\\r\\n\\xd1\\x81\\xd0\\xbe\\xd0\\xb2\\xd1\\x81\\xd0\\xb5\\xd0\\xbc\\r\\n\\xd1\\x82\\xd0\\xbe\\xd0\\xb3\\xd0\\xbe\\r\\n\\xd1\\x82\\xd0\\xbe\\xd0\\xb3\\xd0\\xb4\\xd0\\xb0\\r\\n\\xd1\\x82\\xd0\\xbe\\xd0\\xb6\\xd0\\xb5\\r\\n\\xd1\\x81\\xd0\\xbe\\xd0\\xb1\\xd0\\xbe\\xd0\\xb9\\r\\n\\xd1\\x82\\xd0\\xbe\\xd0\\xb1\\xd0\\xbe\\xd0\\xb9\\r\\n\\xd1\\x81\\xd0\\xbe\\xd0\\xb1\\xd0\\xbe\\xd1\\x8e\\r\\n\\xd1\\x82\\xd0\\xbe\\xd0\\xb1\\xd0\\xbe\\xd1\\x8e\\r\\n\\xd1\\x81\\xd0\\xbd\\xd0\\xb0\\xd1\\x87\\xd0\\xb0\\xd0\\xbb\\xd0\\xb0\\r\\n\\xd1\\x82\\xd0\\xbe\\xd0\\xbb\\xd1\\x8c\\xd0\\xba\\xd0\\xbe\\r\\n\\xd1\\x83\\xd0\\xbc\\xd0\\xb5\\xd1\\x82\\xd1\\x8c\\r\\n\\xd1\\x82\\xd0\\xbe\\xd1\\x82\\r\\n\\xd1\\x82\\xd0\\xbe\\xd1\\x8e\\r\\n\\xd1\\x85\\xd0\\xbe\\xd1\\x80\\xd0\\xbe\\xd1\\x88\\xd0\\xbe\\r\\n\\xd1\\x85\\xd0\\xbe\\xd1\\x82\\xd0\\xb5\\xd1\\x82\\xd1\\x8c\\r\\n\\xd1\\x85\\xd0\\xbe\\xd1\\x87\\xd0\\xb5\\xd1\\x88\\xd1\\x8c\\r\\n\\xd1\\x85\\xd0\\xbe\\xd1\\x82\\xd1\\x8c\\r\\n\\xd1\\x85\\xd0\\xbe\\xd1\\x82\\xd1\\x8f\\r\\n\\xd1\\x81\\xd0\\xb2\\xd0\\xbe\\xd0\\xb5\\r\\n\\xd1\\x81\\xd0\\xb2\\xd0\\xbe\\xd0\\xb8\\r\\n\\xd1\\x82\\xd0\\xb2\\xd0\\xbe\\xd0\\xb9\\r\\n\\xd1\\x81\\xd0\\xb2\\xd0\\xbe\\xd0\\xb5\\xd0\\xb9\\r\\n\\xd1\\x81\\xd0\\xb2\\xd0\\xbe\\xd0\\xb5\\xd0\\xb3\\xd0\\xbe\\r\\n\\xd1\\x81\\xd0\\xb2\\xd0\\xbe\\xd0\\xb8\\xd1\\x85\\r\\n\\xd1\\x81\\xd0\\xb2\\xd0\\xbe\\xd1\\x8e\\r\\n\\xd1\\x82\\xd0\\xb2\\xd0\\xbe\\xd1\\x8f\\r\\n\\xd1\\x82\\xd0\\xb2\\xd0\\xbe\\xd1\\x91\\r\\n\\xd1\\x80\\xd0\\xb0\\xd0\\xb7\\r\\n\\xd1\\x83\\xd0\\xb6\\xd0\\xb5\\r\\n\\xd1\\x81\\xd0\\xb0\\xd0\\xbc\\r\\n\\xd1\\x82\\xd0\\xb0\\xd0\\xbc\\r\\n\\xd1\\x82\\xd0\\xb5\\xd0\\xbc\\r\\n\\xd1\\x87\\xd0\\xb5\\xd0\\xbc\\r\\n\\xd1\\x81\\xd0\\xb0\\xd0\\xbc\\xd0\\xb0\\r\\n\\xd1\\x81\\xd0\\xb0\\xd0\\xbc\\xd0\\xb8\\r\\n\\xd1\\x82\\xd0\\xb5\\xd0\\xbc\\xd0\\xb8\\r\\n\\xd1\\x81\\xd0\\xb0\\xd0\\xbc\\xd0\\xbe\\r\\n\\xd1\\x80\\xd0\\xb0\\xd0\\xbd\\xd0\\xbe\\r\\n\\xd1\\x81\\xd0\\xb0\\xd0\\xbc\\xd0\\xbe\\xd0\\xbc\\r\\n\\xd1\\x81\\xd0\\xb0\\xd0\\xbc\\xd0\\xbe\\xd0\\xbc\\xd1\\x83\\r\\n\\xd1\\x81\\xd0\\xb0\\xd0\\xbc\\xd0\\xbe\\xd0\\xb9\\r\\n\\xd1\\x81\\xd0\\xb0\\xd0\\xbc\\xd0\\xbe\\xd0\\xb3\\xd0\\xbe\\r\\n\\xd1\\x81\\xd0\\xb5\\xd0\\xbc\\xd0\\xbd\\xd0\\xb0\\xd0\\xb4\\xd1\\x86\\xd0\\xb0\\xd1\\x82\\xd1\\x8c\\r\\n\\xd1\\x81\\xd0\\xb5\\xd0\\xbc\\xd0\\xbd\\xd0\\xb0\\xd0\\xb4\\xd1\\x86\\xd0\\xb0\\xd1\\x82\\xd1\\x8b\\xd0\\xb9\\r\\n\\xd1\\x81\\xd0\\xb0\\xd0\\xbc\\xd0\\xb8\\xd0\\xbc\\r\\n\\xd1\\x81\\xd0\\xb0\\xd0\\xbc\\xd0\\xb8\\xd0\\xbc\\xd0\\xb8\\r\\n\\xd1\\x81\\xd0\\xb0\\xd0\\xbc\\xd0\\xb8\\xd1\\x85\\r\\n\\xd1\\x81\\xd0\\xb0\\xd0\\xbc\\xd1\\x83\\r\\n\\xd1\\x81\\xd0\\xb5\\xd0\\xbc\\xd1\\x8c\\r\\n\\xd1\\x87\\xd0\\xb5\\xd0\\xbc\\xd1\\x83\\r\\n\\xd1\\x80\\xd0\\xb0\\xd0\\xbd\\xd1\\x8c\\xd1\\x88\\xd0\\xb5\\r\\n\\xd1\\x81\\xd0\\xb5\\xd0\\xb9\\xd1\\x87\\xd0\\xb0\\xd1\\x81\\r\\n\\xd1\\x87\\xd0\\xb5\\xd0\\xb3\\xd0\\xbe\\r\\n\\xd1\\x81\\xd0\\xb5\\xd0\\xb3\\xd0\\xbe\\xd0\\xb4\\xd0\\xbd\\xd1\\x8f\\r\\n\\xd1\\x81\\xd0\\xb5\\xd0\\xb1\\xd0\\xb5\\r\\n\\xd1\\x82\\xd0\\xb5\\xd0\\xb1\\xd0\\xb5\\r\\n\\xd1\\x81\\xd0\\xb5\\xd0\\xb0\\xd0\\xbe\\xd0\\xb9\\r\\n\\xd1\\x87\\xd0\\xb5\\xd0\\xbb\\xd0\\xbe\\xd0\\xb2\\xd0\\xb5\\xd0\\xba\\r\\n\\xd1\\x80\\xd0\\xb0\\xd0\\xb7\\xd0\\xb2\\xd0\\xb5\\r\\n\\xd1\\x82\\xd0\\xb5\\xd0\\xbf\\xd0\\xb5\\xd1\\x80\\xd1\\x8c\\r\\n\\xd1\\x81\\xd0\\xb5\\xd0\\xb1\\xd1\\x8f\\r\\n\\xd1\\x82\\xd0\\xb5\\xd0\\xb1\\xd1\\x8f\\r\\n\\xd1\\x81\\xd0\\xb5\\xd0\\xb4\\xd1\\x8c\\xd0\\xbc\\xd0\\xbe\\xd0\\xb9\\r\\n\\xd1\\x81\\xd0\\xbf\\xd0\\xb0\\xd1\\x81\\xd0\\xb8\\xd0\\xb1\\xd0\\xbe\\r\\n\\xd1\\x81\\xd0\\xbb\\xd0\\xb8\\xd1\\x88\\xd0\\xba\\xd0\\xbe\\xd0\\xbc\\r\\n\\xd1\\x82\\xd0\\xb0\\xd0\\xba\\r\\n\\xd1\\x82\\xd0\\xb0\\xd0\\xba\\xd0\\xbe\\xd0\\xb5\\r\\n\\xd1\\x82\\xd0\\xb0\\xd0\\xba\\xd0\\xbe\\xd0\\xb9\\r\\n\\xd1\\x82\\xd0\\xb0\\xd0\\xba\\xd0\\xb8\\xd0\\xb5\\r\\n\\xd1\\x82\\xd0\\xb0\\xd0\\xba\\xd0\\xb6\\xd0\\xb5\\r\\n\\xd1\\x82\\xd0\\xb0\\xd0\\xba\\xd0\\xb0\\xd1\\x8f\\r\\n\\xd1\\x81\\xd0\\xb8\\xd1\\x85\\r\\n\\xd1\\x82\\xd0\\xb5\\xd1\\x85\\r\\n\\xd1\\x87\\xd0\\xb0\\xd1\\x89\\xd0\\xb5\\r\\n\\xd1\\x87\\xd0\\xb5\\xd1\\x82\\xd0\\xb2\\xd0\\xb5\\xd1\\x80\\xd1\\x82\\xd1\\x8b\\xd0\\xb9\\r\\n\\xd1\\x87\\xd0\\xb5\\xd1\\x80\\xd0\\xb5\\xd0\\xb7\\r\\n\\xd1\\x87\\xd0\\xb0\\xd1\\x81\\xd1\\x82\\xd0\\xbe\\r\\n\\xd1\\x88\\xd0\\xb5\\xd1\\x81\\xd1\\x82\\xd0\\xbe\\xd0\\xb9\\r\\n\\xd1\\x88\\xd0\\xb5\\xd1\\x81\\xd1\\x82\\xd0\\xbd\\xd0\\xb0\\xd0\\xb4\\xd1\\x86\\xd0\\xb0\\xd1\\x82\\xd1\\x8c\\r\\n\\xd1\\x88\\xd0\\xb5\\xd1\\x81\\xd1\\x82\\xd0\\xbd\\xd0\\xb0\\xd0\\xb4\\xd1\\x86\\xd0\\xb0\\xd1\\x82\\xd1\\x8b\\xd0\\xb9\\r\\n\\xd1\\x88\\xd0\\xb5\\xd1\\x81\\xd1\\x82\\xd1\\x8c\\r\\n\\xd1\\x87\\xd0\\xb5\\xd1\\x82\\xd1\\x8b\\xd1\\x80\\xd0\\xb5\\r\\n\\xd1\\x87\\xd0\\xb5\\xd1\\x82\\xd1\\x8b\\xd1\\x80\\xd0\\xbd\\xd0\\xb0\\xd0\\xb4\\xd1\\x86\\xd0\\xb0\\xd1\\x82\\xd1\\x8c\\r\\n\\xd1\\x87\\xd0\\xb5\\xd1\\x82\\xd1\\x8b\\xd1\\x80\\xd0\\xbd\\xd0\\xb0\\xd0\\xb4\\xd1\\x86\\xd0\\xb0\\xd1\\x82\\xd1\\x8b\\xd0\\xb9\\r\\n\\xd1\\x81\\xd0\\xba\\xd0\\xbe\\xd0\\xbb\\xd1\\x8c\\xd0\\xba\\xd0\\xbe\\r\\n\\xd1\\x81\\xd0\\xba\\xd0\\xb0\\xd0\\xb7\\xd0\\xb0\\xd0\\xbb\\r\\n\\xd1\\x81\\xd0\\xba\\xd0\\xb0\\xd0\\xb7\\xd0\\xb0\\xd0\\xbb\\xd0\\xb0\\r\\n\\xd1\\x81\\xd0\\xba\\xd0\\xb0\\xd0\\xb7\\xd0\\xb0\\xd1\\x82\\xd1\\x8c\\r\\n\\xd1\\x82\\xd1\\x83\\r\\n\\xd1\\x82\\xd1\\x8b\\r\\n\\xd1\\x82\\xd1\\x80\\xd0\\xb8\\r\\n\\xd1\\x8d\\xd1\\x82\\xd0\\xb0\\r\\n\\xd1\\x8d\\xd1\\x82\\xd0\\xb8\\r\\n\\xd1\\x87\\xd1\\x82\\xd0\\xbe\\r\\n\\xd1\\x8d\\xd1\\x82\\xd0\\xbe\\r\\n\\xd1\\x87\\xd1\\x82\\xd0\\xbe\\xd0\\xb1\\r\\n\\xd1\\x8d\\xd1\\x82\\xd0\\xbe\\xd0\\xbc\\r\\n\\xd1\\x8d\\xd1\\x82\\xd0\\xbe\\xd0\\xbc\\xd1\\x83\\r\\n\\xd1\\x8d\\xd1\\x82\\xd0\\xbe\\xd0\\xb9\\r\\n\\xd1\\x8d\\xd1\\x82\\xd0\\xbe\\xd0\\xb3\\xd0\\xbe\\r\\n\\xd1\\x87\\xd1\\x82\\xd0\\xbe\\xd0\\xb1\\xd1\\x8b\\r\\n\\xd1\\x8d\\xd1\\x82\\xd0\\xbe\\xd1\\x82\\r\\n\\xd1\\x81\\xd1\\x82\\xd0\\xb0\\xd0\\xbb\\r\\n\\xd1\\x82\\xd1\\x83\\xd0\\xb4\\xd0\\xb0\\r\\n\\xd1\\x8d\\xd1\\x82\\xd0\\xb8\\xd0\\xbc\\r\\n\\xd1\\x8d\\xd1\\x82\\xd0\\xb8\\xd0\\xbc\\xd0\\xb8\\r\\n\\xd1\\x80\\xd1\\x8f\\xd0\\xb4\\xd0\\xbe\\xd0\\xbc\\r\\n\\xd1\\x82\\xd1\\x80\\xd0\\xb8\\xd0\\xbd\\xd0\\xb0\\xd0\\xb4\\xd1\\x86\\xd0\\xb0\\xd1\\x82\\xd1\\x8c\\r\\n\\xd1\\x82\\xd1\\x80\\xd0\\xb8\\xd0\\xbd\\xd0\\xb0\\xd0\\xb4\\xd1\\x86\\xd0\\xb0\\xd1\\x82\\xd1\\x8b\\xd0\\xb9\\r\\n\\xd1\\x8d\\xd1\\x82\\xd0\\xb8\\xd1\\x85\\r\\n\\xd1\\x82\\xd1\\x80\\xd0\\xb5\\xd1\\x82\\xd0\\xb8\\xd0\\xb9\\r\\n\\xd1\\x82\\xd1\\x83\\xd1\\x82\\r\\n\\xd1\\x8d\\xd1\\x82\\xd1\\x83\\r\\n\\xd1\\x81\\xd1\\x83\\xd1\\x82\\xd1\\x8c\\r\\n\\xd1\\x87\\xd1\\x83\\xd1\\x82\\xd1\\x8c\\r\\n\\xd1\\x82\\xd1\\x8b\\xd1\\x81\\xd1\\x8f\\xd1\\x87\\r\\n'}"
            ]
          },
          "metadata": {
            "tags": []
          },
          "execution_count": 8
        }
      ]
    },
    {
      "cell_type": "code",
      "metadata": {
        "id": "8G82TKtaDqdj",
        "colab_type": "code",
        "colab": {}
      },
      "source": [
        "file = open(\"stop-words_russian_1_ru.txt\", \"r\")"
      ],
      "execution_count": 0,
      "outputs": []
    },
    {
      "cell_type": "code",
      "metadata": {
        "id": "JCuf0LLMDy_P",
        "colab_type": "code",
        "colab": {}
      },
      "source": [
        "stop = file.read()"
      ],
      "execution_count": 0,
      "outputs": []
    },
    {
      "cell_type": "code",
      "metadata": {
        "id": "KCecn554D8jl",
        "colab_type": "code",
        "colab": {}
      },
      "source": [
        "punctuation = list(punctuation)\n",
        "punct2 =['—', '«', '»', '–']\n",
        "punctuation2  =  list(punct2+punctuation)"
      ],
      "execution_count": 0,
      "outputs": []
    },
    {
      "cell_type": "code",
      "metadata": {
        "id": "ShLJew1yEBqA",
        "colab_type": "code",
        "colab": {}
      },
      "source": [
        "stop = list(stop)+punctuation2"
      ],
      "execution_count": 0,
      "outputs": []
    },
    {
      "cell_type": "code",
      "metadata": {
        "id": "s4lpo4lINi8N",
        "colab_type": "code",
        "outputId": "2acdcb70-33d1-4992-90cb-dd1859c1fac9",
        "colab": {
          "base_uri": "https://localhost:8080/",
          "height": 35
        }
      },
      "source": [
        "! ls"
      ],
      "execution_count": 0,
      "outputs": [
        {
          "output_type": "stream",
          "text": [
            "korpus.csv  sample_data\n"
          ],
          "name": "stdout"
        }
      ]
    },
    {
      "cell_type": "code",
      "metadata": {
        "id": "cT0l4D2GNi5S",
        "colab_type": "code",
        "colab": {}
      },
      "source": [
        "df = pd.read_csv('korpus.csv')"
      ],
      "execution_count": 0,
      "outputs": []
    },
    {
      "cell_type": "code",
      "metadata": {
        "id": "qrQQwSdONiwv",
        "colab_type": "code",
        "outputId": "9c1185a3-6c66-4cd3-f811-7692d2bd74e5",
        "colab": {
          "base_uri": "https://localhost:8080/",
          "height": 202
        }
      },
      "source": [
        "df.tail()"
      ],
      "execution_count": 15,
      "outputs": [
        {
          "output_type": "execute_result",
          "data": {
            "text/html": [
              "<div>\n",
              "<style scoped>\n",
              "    .dataframe tbody tr th:only-of-type {\n",
              "        vertical-align: middle;\n",
              "    }\n",
              "\n",
              "    .dataframe tbody tr th {\n",
              "        vertical-align: top;\n",
              "    }\n",
              "\n",
              "    .dataframe thead th {\n",
              "        text-align: right;\n",
              "    }\n",
              "</style>\n",
              "<table border=\"1\" class=\"dataframe\">\n",
              "  <thead>\n",
              "    <tr style=\"text-align: right;\">\n",
              "      <th></th>\n",
              "      <th>Unnamed: 0</th>\n",
              "      <th>text</th>\n",
              "      <th>type</th>\n",
              "      <th>author</th>\n",
              "    </tr>\n",
              "  </thead>\n",
              "  <tbody>\n",
              "    <tr>\n",
              "      <th>6440</th>\n",
              "      <td>170</td>\n",
              "      <td>Это оттого, что с людьми, с которыми она тепер...</td>\n",
              "      <td>prose</td>\n",
              "      <td>pasternak</td>\n",
              "    </tr>\n",
              "    <tr>\n",
              "      <th>6441</th>\n",
              "      <td>171</td>\n",
              "      <td>Доступное, при желаньи, восхищенным пониманиям...</td>\n",
              "      <td>prose</td>\n",
              "      <td>pasternak</td>\n",
              "    </tr>\n",
              "    <tr>\n",
              "      <th>6442</th>\n",
              "      <td>172</td>\n",
              "      <td>Они встречались, крепко спаянные его давностью...</td>\n",
              "      <td>prose</td>\n",
              "      <td>pasternak</td>\n",
              "    </tr>\n",
              "    <tr>\n",
              "      <th>6443</th>\n",
              "      <td>173</td>\n",
              "      <td>Те, которым не пришлось возобновить временно п...</td>\n",
              "      <td>prose</td>\n",
              "      <td>pasternak</td>\n",
              "    </tr>\n",
              "    <tr>\n",
              "      <th>6444</th>\n",
              "      <td>174</td>\n",
              "      <td>Все обзавелись семьями, у всех</td>\n",
              "      <td>prose</td>\n",
              "      <td>pasternak</td>\n",
              "    </tr>\n",
              "  </tbody>\n",
              "</table>\n",
              "</div>"
            ],
            "text/plain": [
              "      Unnamed: 0  ...     author\n",
              "6440         170  ...  pasternak\n",
              "6441         171  ...  pasternak\n",
              "6442         172  ...  pasternak\n",
              "6443         173  ...  pasternak\n",
              "6444         174  ...  pasternak\n",
              "\n",
              "[5 rows x 4 columns]"
            ]
          },
          "metadata": {
            "tags": []
          },
          "execution_count": 15
        }
      ]
    },
    {
      "cell_type": "markdown",
      "metadata": {
        "id": "_51v4etYUFKy",
        "colab_type": "text"
      },
      "source": [
        "Multinominal и CountVectorizer\n"
      ]
    },
    {
      "cell_type": "code",
      "metadata": {
        "id": "Pgw9WNJkSFAt",
        "colab_type": "code",
        "outputId": "e35d2b7a-06f2-4099-b7cb-6fe8cda0ea9c",
        "colab": {
          "base_uri": "https://localhost:8080/",
          "height": 173
        }
      },
      "source": [
        "vec = CountVectorizer()\n",
        "bag_of_words = vec.fit_transform(df.text)\n",
        "X_train, X_test, y_train, y_test = train_test_split(bag_of_words, df.author)\n",
        "nb = MultinomialNB()\n",
        "clf = nb.fit(X_train, y_train)\n",
        "print(classification_report(y_test, clf.predict(X_test)))"
      ],
      "execution_count": 50,
      "outputs": [
        {
          "output_type": "stream",
          "text": [
            "              precision    recall  f1-score   support\n",
            "\n",
            "       bunin       0.82      0.93      0.88      1151\n",
            "   pasternak       0.75      0.50      0.60       461\n",
            "\n",
            "    accuracy                           0.81      1612\n",
            "   macro avg       0.79      0.72      0.74      1612\n",
            "weighted avg       0.80      0.81      0.80      1612\n",
            "\n"
          ],
          "name": "stdout"
        }
      ]
    },
    {
      "cell_type": "markdown",
      "metadata": {
        "id": "OoM0iKbKUPoV",
        "colab_type": "text"
      },
      "source": [
        " + Pymorphy"
      ]
    },
    {
      "cell_type": "code",
      "metadata": {
        "id": "aMrj0Evcvqff",
        "colab_type": "code",
        "colab": {}
      },
      "source": [
        "def preprocess_tokenize(text):\n",
        "    \n",
        "    text_preprocessed_tokenized = []\n",
        "        \n",
        "    for sentence in ru_sent_tokenize(text):\n",
        "        clean_words = [word.strip(string.punctuation) for word in word_tokenize(text)]\n",
        "        clean_words = [word for word in clean_words if word]\n",
        "        clean_words = [word.lower() for word in clean_words if word]\n",
        "        clean_words = [word for word in clean_words if word not in russian_stopwords]\n",
        "        clean_lemmas = [morph_analyzer.parse(word)[0].normal_form for word in clean_words]\n",
        "        text_preprocessed_tokenized.extend(clean_lemmas)\n",
        "\n",
        "    return text_preprocessed_tokenized"
      ],
      "execution_count": 0,
      "outputs": []
    },
    {
      "cell_type": "markdown",
      "metadata": {
        "id": "8xmCHHtwUVcn",
        "colab_type": "text"
      },
      "source": [
        "LogisticRegression + pymorphy"
      ]
    },
    {
      "cell_type": "code",
      "metadata": {
        "id": "CxdT5E_GThuF",
        "colab_type": "code",
        "outputId": "1bdd3b82-f593-40fd-a8a9-69f7e5395bed",
        "colab": {
          "base_uri": "https://localhost:8080/",
          "height": 263
        }
      },
      "source": [
        "vec = CountVectorizer(tokenizer=word_tokenize, stop_words=stop)\n",
        "bag_of_words = vec.fit_transform(df.text)\n",
        "X_train, X_test, y_train, y_test = train_test_split(bag_of_words, df.author)\n",
        "lr = LogisticRegression(C=25, penalty='l2', solver = 'saga')\n",
        "clf = lr.fit(X_train, y_train)\n",
        "print(classification_report(y_test, clf.predict(X_test)))"
      ],
      "execution_count": 52,
      "outputs": [
        {
          "output_type": "stream",
          "text": [
            "/usr/local/lib/python3.6/dist-packages/sklearn/feature_extraction/text.py:385: UserWarning: Your stop_words may be inconsistent with your preprocessing. Tokenizing the stop words generated tokens ['``'] not in stop_words.\n",
            "  'stop_words.' % sorted(inconsistent))\n"
          ],
          "name": "stderr"
        },
        {
          "output_type": "stream",
          "text": [
            "              precision    recall  f1-score   support\n",
            "\n",
            "       bunin       0.79      0.94      0.86      1159\n",
            "   pasternak       0.72      0.37      0.49       453\n",
            "\n",
            "    accuracy                           0.78      1612\n",
            "   macro avg       0.75      0.66      0.67      1612\n",
            "weighted avg       0.77      0.78      0.76      1612\n",
            "\n"
          ],
          "name": "stdout"
        },
        {
          "output_type": "stream",
          "text": [
            "/usr/local/lib/python3.6/dist-packages/sklearn/linear_model/_sag.py:330: ConvergenceWarning: The max_iter was reached which means the coef_ did not converge\n",
            "  \"the coef_ did not converge\", ConvergenceWarning)\n"
          ],
          "name": "stderr"
        }
      ]
    },
    {
      "cell_type": "code",
      "metadata": {
        "id": "0G81vRvvxleQ",
        "colab_type": "code",
        "colab": {
          "base_uri": "https://localhost:8080/",
          "height": 35
        },
        "outputId": "a9c31b0f-7d4a-4971-d625-ecdace49b404"
      },
      "source": [
        "new_vector = vec.transform([\"\"\"Ее всю сотрясали сдерживаемые рыдания. Пока она могла, она им сопротивлялась, но вдруг это становилось выше ее сил, слезы прорывались у нее, и она обдавала ими щеки, платье, руки и гроб, к которому она прижималась. Она ничего не говорила, не думала. Ряды мыслей, общности, знания, достоверности привольно неслись, гнали через нее, как облака по небу и как во время их прежних ночных разговоров. Вот это-то, бывало, и приносило счастье и освобожденье. Неголовное, горячее, друг другу внушаемое знание. Инстинктивное, непосредственное. Таким знанием была полна она и сейчас, темным, неотчетливым знанием о смерти, подготовленностью к ней, отсутствием растерянности перед ней. Точно она уже двадцать раз жила на свете, без счета теряла Юрия Живаго и накопила целый опыт сердца на этот счет, так что все, что она чувствовала и делала у этого гроба, было впопад и кстати.\"\"\"])\n",
        "clf.predict(new_vector)"
      ],
      "execution_count": 53,
      "outputs": [
        {
          "output_type": "execute_result",
          "data": {
            "text/plain": [
              "array(['bunin'], dtype=object)"
            ]
          },
          "metadata": {
            "tags": []
          },
          "execution_count": 53
        }
      ]
    },
    {
      "cell_type": "markdown",
      "metadata": {
        "id": "qL2JQ_ZfyDO3",
        "colab_type": "text"
      },
      "source": [
        ":( Неверно! Это был Пастернак! "
      ]
    },
    {
      "cell_type": "code",
      "metadata": {
        "id": "g__ZWV7tx_9e",
        "colab_type": "code",
        "colab": {
          "base_uri": "https://localhost:8080/",
          "height": 35
        },
        "outputId": "0483cec7-c000-4529-e66b-fda53e5ecc1b"
      },
      "source": [
        "new_vector1 = vec.transform([''' Под вековою шелковицею спала нянька, прислонившись к ее стволу. Когда огромная лиловая туча, встав на краю дороги, заставила умолкнуть и кузнечиков, знойно трещавших в траве, а в лагерях вздохнули и оттрепетали барабаны, у земли потемнело в глазах и на свете не стало жизни\"\n",
        "\n",
        "-- Куды, куды! -- поротой губой провыла на весь мир полоумная пастушка и, в предшествии молодого бычка, волоча отдавленную ногу и маша, как молнией, дикой хворостиной, явилась в облаке мусора с того краю сада, где начиналась дичь: паслен, кирпич, мятая проволока, гнилой полумрак.\n",
        "\n",
        "И она исчезла.\n",
        "\n",
        "Туча окинула взглядом низкие запекшиеся жнивья. Они стлались до самого горизонта. Туча легко вскинулась на дыбы. Они простирались и дальше, за самые лагеря. Туча опустилась на передние ноги и, плавно перейдя через дорогу, бесшумно поползла вдоль четвертого рельса разъезда. Кусты, пообнажав головы, всей насыпью двинулись за ней. Они текли, кланяясь ей. Она им не отвечала.\n",
        "\n",
        "С дерева падали ягоды и гусеницы. Они отваливались, зачумев от жары и, втяпнувшись в нянин передник, переставали о чем-либо думать.\n",
        "\n",
        "Ребенок дополз до водопроводного крана. Он полз уже давно. Он пополз дальше.\n",
        "\n",
        "Когда, наконец, польет и обе пары рельсов полетят вдоль косых плетней, спасаясь от черной водяной ночи, спущенной на них; когда, бушующая, впопыхах она на бегу прокричит вам, чтобы вы ее не боялись, что ее зовут ливнем, любовью и еще как-то, я расскажу вам, что родители похищаемого мальчика с вечера вычистили свое пике и было еще очень рано, когда, белоснежные, как на партию тенниса, они прошли темным еще садом и вышли к столбу с обозначением станции в то самое мгновенье, как пузатая тарелка паров '''])\n",
        "clf.predict(new_vector1) #это Пастернак"
      ],
      "execution_count": 54,
      "outputs": [
        {
          "output_type": "execute_result",
          "data": {
            "text/plain": [
              "array(['bunin'], dtype=object)"
            ]
          },
          "metadata": {
            "tags": []
          },
          "execution_count": 54
        }
      ]
    },
    {
      "cell_type": "code",
      "metadata": {
        "id": "2-cPolrZxlUs",
        "colab_type": "code",
        "colab": {
          "base_uri": "https://localhost:8080/",
          "height": 35
        },
        "outputId": "3ecba57a-56c8-4fb2-8c7b-effdba228120"
      },
      "source": [
        "new_vector2 = vec.transform([\"\"\" \n",
        "Зазимки\n",
        "\n",
        "Открыли дверь, и в кухню паром\n",
        "\n",
        "Вкатился воздух со двора,\n",
        "\n",
        "И все мгновенно стало старым,\n",
        "\n",
        "Как в детстве в те же вечера.\n",
        "\n",
        "\n",
        "Сухая, тихая погода.\n",
        "\n",
        "На улице, шагах в пяти,\n",
        "\n",
        "Стоит, стыдясь, зима у входа\n",
        "\n",
        "И не решается войти.\n",
        "\n",
        "\n",
        "Зима – и всё опять впервые.\n",
        "\n",
        "В седые дали ноября\n",
        "\n",
        "Уходят ветлы, как слепые\n",
        "\n",
        "Без палки и поводыря.\n",
        "\n",
        "\n",
        "Во льду река и мерзлый тальник,\n",
        "\n",
        "А поперек, на голый лед,\n",
        "\n",
        "Как зеркало на подзеркальник,\n",
        "\n",
        "Поставлен черный небосвод.\n",
        "\n",
        "\n",
        "Пред ним стоит на перекрестке,\n",
        "\n",
        "Который полузанесло,\n",
        "\n",
        "Береза со звездой в прическе\n",
        "\n",
        "И смотрится в его стекло.\n",
        "\n",
        "\n",
        "Она подозревает втайне,\n",
        "\n",
        "Что чудесами в решете\n",
        "\n",
        "Полна зима на даче крайней,\n",
        "\n",
        "Как у нее на высоте.\"\"\"])\n",
        "clf.predict(new_vector1) # Печаль. Это опять Пастернак."
      ],
      "execution_count": 55,
      "outputs": [
        {
          "output_type": "execute_result",
          "data": {
            "text/plain": [
              "array(['bunin'], dtype=object)"
            ]
          },
          "metadata": {
            "tags": []
          },
          "execution_count": 55
        }
      ]
    },
    {
      "cell_type": "code",
      "metadata": {
        "id": "BBcg8EaC24gU",
        "colab_type": "code",
        "colab": {
          "base_uri": "https://localhost:8080/",
          "height": 35
        },
        "outputId": "4cf97c1d-df82-4653-9465-603d99e67d54"
      },
      "source": [
        "new_vector3 = vec.transform([ \"\"\" Быть или не быть, вот в чём вопрос. Достойно ль Смиряться под ударами судьбы, Иль надо оказать сопротивленье И в смертной схватке с целым морем бед Покончить с ними? Умереть. Забыться. И знать, что этим обрываешь цепь Сердечных мук и тысячи лишений, Присущих телу. Это ли не цель Желанная? Скончаться. Сном забыться. Уснуть... и видеть сны? Вот и ответ. Какие сны в том смертном сне приснятся, Когда покров земного чувства снят? Вот в чём разгадка. Вот что удлиняет Несчастьям нашим жизнь на столько лет. А тот, кто снёс бы униженья века, Неправду угнетателей, вельмож Заносчивость, отринутое чувство, Нескорый суд и более всего Насмешки недостойных над достойным, Когда так просто сводит все концы Удар кинжала! Кто бы согласился, Кряхтя, под ношей жизненной плестись, Когда бы неизвестность после смерти, Боязнь страны, откуда ни один Не возвращался, не склоняла воли Мириться лучше со знакомым злом, Чем бегством к незнакомому стремиться! Так всех нас в трусов превращает мысль, И вянет, как цветок, решимость наша В бесплодье умственного тупика, Так погибают замыслы с размахом, В начале обещавшие успех, От долгих отлагательств. Но довольно! Офелия! О радость! Помяни Мои грехи в своих молитвах, нимфа.\n",
        "\n",
        "\"\"\"])\n",
        "clf.predict(new_vector3) #а вот это интересно. Пастернак-Шекспир в большей степени Пастернак,\n",
        "# чем сам Пастернак"
      ],
      "execution_count": 56,
      "outputs": [
        {
          "output_type": "execute_result",
          "data": {
            "text/plain": [
              "array(['pasternak'], dtype=object)"
            ]
          },
          "metadata": {
            "tags": []
          },
          "execution_count": 56
        }
      ]
    },
    {
      "cell_type": "markdown",
      "metadata": {
        "id": "v1K7f-NtTxrC",
        "colab_type": "text"
      },
      "source": [
        "### Другие классификаторы"
      ]
    },
    {
      "cell_type": "code",
      "metadata": {
        "id": "TB08poIJceRd",
        "colab_type": "code",
        "colab": {}
      },
      "source": [
        "morph_analyzer = pymorphy2.MorphAnalyzer()\n",
        "russian_stopwords = stopwords.words('russian')"
      ],
      "execution_count": 0,
      "outputs": []
    },
    {
      "cell_type": "code",
      "metadata": {
        "id": "f0ibKVJgrSQG",
        "colab_type": "code",
        "colab": {}
      },
      "source": [
        "from sklearn.ensemble import RandomForestClassifier\n",
        "from sklearn.neighbors import KNeighborsClassifier\n",
        "from sklearn.svm import SVC\n",
        "from sklearn.tree import DecisionTreeClassifier"
      ],
      "execution_count": 0,
      "outputs": []
    },
    {
      "cell_type": "code",
      "metadata": {
        "id": "Qx1cyQdJlJRL",
        "colab_type": "code",
        "colab": {}
      },
      "source": [
        "from sklearn.linear_model import LogisticRegression\n",
        "from sklearn.feature_extraction.text import TfidfVectorizer"
      ],
      "execution_count": 0,
      "outputs": []
    },
    {
      "cell_type": "code",
      "metadata": {
        "id": "8f91gp44yfkl",
        "colab_type": "code",
        "outputId": "b6b46ef5-1670-444c-8003-4329580d6103",
        "colab": {
          "base_uri": "https://localhost:8080/",
          "height": 173
        }
      },
      "source": [
        "vec = TfidfVectorizer(tokenizer=preprocess_tokenize) \n",
        "bag_of_words = vec.fit_transform(df.text)\n",
        "X_train, X_test, y_train, y_test = train_test_split(bag_of_words, df.author)\n",
        "rf = RandomForestClassifier()\n",
        "clf = rf.fit(X_train, y_train)\n",
        "print(classification_report(y_test, clf.predict(X_test)))"
      ],
      "execution_count": 69,
      "outputs": [
        {
          "output_type": "stream",
          "text": [
            "              precision    recall  f1-score   support\n",
            "\n",
            "       bunin       0.78      0.97      0.87      1146\n",
            "   pasternak       0.81      0.33      0.47       466\n",
            "\n",
            "    accuracy                           0.79      1612\n",
            "   macro avg       0.80      0.65      0.67      1612\n",
            "weighted avg       0.79      0.79      0.75      1612\n",
            "\n"
          ],
          "name": "stdout"
        }
      ]
    },
    {
      "cell_type": "code",
      "metadata": {
        "id": "N_xUBQq3sOBc",
        "colab_type": "code",
        "colab": {}
      },
      "source": [
        "vec = CountVectorizer(tokenizer=preprocess_tokenize)\n",
        "bag_of_words = vec.fit_transform(df.text)\n",
        "X_train, X_test, y_train, y_test = train_test_split(bag_of_words, df.author)\n",
        "kn = KNeighborsClassifier()\n",
        "clf = kn.fit(X_train, y_train)"
      ],
      "execution_count": 0,
      "outputs": []
    },
    {
      "cell_type": "code",
      "metadata": {
        "id": "zoyr7pvrsWm9",
        "colab_type": "code",
        "outputId": "33f021b3-13ae-4e4c-94ad-0a100c9ce890",
        "colab": {
          "base_uri": "https://localhost:8080/",
          "height": 173
        }
      },
      "source": [
        "print(classification_report(y_test, kn.predict(X_test)))"
      ],
      "execution_count": 71,
      "outputs": [
        {
          "output_type": "stream",
          "text": [
            "              precision    recall  f1-score   support\n",
            "\n",
            "       bunin       0.73      0.94      0.82      1143\n",
            "   pasternak       0.49      0.14      0.22       469\n",
            "\n",
            "    accuracy                           0.71      1612\n",
            "   macro avg       0.61      0.54      0.52      1612\n",
            "weighted avg       0.66      0.71      0.65      1612\n",
            "\n"
          ],
          "name": "stdout"
        }
      ]
    },
    {
      "cell_type": "code",
      "metadata": {
        "id": "vAVabzVpvm8f",
        "colab_type": "code",
        "colab": {}
      },
      "source": [
        "vec = TfidfVectorizer(tokenizer=preprocess_tokenize)\n",
        "bag_of_words = vec.fit_transform(df.text)\n",
        "X_train, X_test, y_train, y_test = train_test_split(bag_of_words, df.author)\n",
        "svc = SVC()\n",
        "clf = svc.fit(X_train, y_train)"
      ],
      "execution_count": 0,
      "outputs": []
    },
    {
      "cell_type": "code",
      "metadata": {
        "id": "szJ2qpscvsJc",
        "colab_type": "code",
        "outputId": "d9685a99-7207-4824-d966-ce44d06bba8f",
        "colab": {
          "base_uri": "https://localhost:8080/"
        }
      },
      "source": [
        "print(classification_report(y_test, svc.predict(X_test)))"
      ],
      "execution_count": 0,
      "outputs": [
        {
          "output_type": "stream",
          "text": [
            "              precision    recall  f1-score   support\n",
            "\n",
            "       bunin       0.77      0.98      0.86      1108\n",
            "   pasternak       0.87      0.34      0.49       504\n",
            "\n",
            "    accuracy                           0.78      1612\n",
            "   macro avg       0.82      0.66      0.67      1612\n",
            "weighted avg       0.80      0.78      0.74      1612\n",
            "\n"
          ],
          "name": "stdout"
        }
      ]
    },
    {
      "cell_type": "code",
      "metadata": {
        "id": "wHBZAjXNv-Ol",
        "colab_type": "code",
        "outputId": "8d4e0353-0bad-4db6-e25e-c5842219f0dc",
        "colab": {
          "base_uri": "https://localhost:8080/"
        }
      },
      "source": [
        "vec = CountVectorizer(tokenizer=preprocess_tokenize)\n",
        "bag_of_words = vec.fit_transform(df.text)\n",
        "X_train, X_test, y_train, y_test = train_test_split(bag_of_words, df.author)\n",
        "dt = DecisionTreeClassifier()\n",
        "clf = dt.fit(X_train, y_train)\n",
        "print(classification_report(y_test, dt.predict(X_test)))"
      ],
      "execution_count": 0,
      "outputs": [
        {
          "output_type": "stream",
          "text": [
            "              precision    recall  f1-score   support\n",
            "\n",
            "       bunin       0.81      0.89      0.85      1171\n",
            "   pasternak       0.61      0.46      0.52       441\n",
            "\n",
            "    accuracy                           0.77      1612\n",
            "   macro avg       0.71      0.67      0.69      1612\n",
            "weighted avg       0.76      0.77      0.76      1612\n",
            "\n"
          ],
          "name": "stdout"
        }
      ]
    },
    {
      "cell_type": "markdown",
      "metadata": {
        "id": "YDtQEpV7x19o",
        "colab_type": "text"
      },
      "source": [
        "### Tf-idf признаки"
      ]
    },
    {
      "cell_type": "code",
      "metadata": {
        "id": "j19Qj11rEoxJ",
        "colab_type": "code",
        "colab": {}
      },
      "source": [
        "from sklearn.feature_extraction.text import TfidfVectorizer"
      ],
      "execution_count": 0,
      "outputs": []
    },
    {
      "cell_type": "code",
      "metadata": {
        "id": "_DCQrWIMxwH5",
        "colab_type": "code",
        "outputId": "27071fa2-1753-4976-98a4-223a0c5a6fa2",
        "colab": {
          "base_uri": "https://localhost:8080/",
          "height": 228
        }
      },
      "source": [
        "vec = TfidfVectorizer(tokenizer=word_tokenize, stop_words=stop)\n",
        "bag_of_words = vec.fit_transform(df.text)\n",
        "X_train, X_test, y_train, y_test = train_test_split(bag_of_words, df.author)\n",
        "lr = LogisticRegression(C=25, penalty='l2', solver = 'saga')\n",
        "clf = lr.fit(X_train, y_train)\n",
        "print(classification_report(y_test, clf.predict(X_test))) "
      ],
      "execution_count": 74,
      "outputs": [
        {
          "output_type": "stream",
          "text": [
            "/usr/local/lib/python3.6/dist-packages/sklearn/feature_extraction/text.py:385: UserWarning: Your stop_words may be inconsistent with your preprocessing. Tokenizing the stop words generated tokens ['``'] not in stop_words.\n",
            "  'stop_words.' % sorted(inconsistent))\n"
          ],
          "name": "stderr"
        },
        {
          "output_type": "stream",
          "text": [
            "              precision    recall  f1-score   support\n",
            "\n",
            "       bunin       0.82      0.91      0.86      1182\n",
            "   pasternak       0.65      0.45      0.53       430\n",
            "\n",
            "    accuracy                           0.79      1612\n",
            "   macro avg       0.74      0.68      0.70      1612\n",
            "weighted avg       0.78      0.79      0.78      1612\n",
            "\n"
          ],
          "name": "stdout"
        }
      ]
    },
    {
      "cell_type": "code",
      "metadata": {
        "id": "QMtkjgZLeZSQ",
        "colab_type": "code",
        "colab": {}
      },
      "source": [
        "index_to_word = {\n",
        "    ind: word\n",
        "    for (word, ind)\n",
        "    in vec.vocabulary_.items()\n",
        "    }"
      ],
      "execution_count": 0,
      "outputs": []
    },
    {
      "cell_type": "code",
      "metadata": {
        "id": "-aQfe84OFGYH",
        "colab_type": "code",
        "outputId": "9c7870ee-2884-41fb-ee1a-2963d53a0ccd",
        "colab": {
          "base_uri": "https://localhost:8080/",
          "height": 364
        }
      },
      "source": [
        "top_features = sorted(enumerate(clf.coef_[0]), key=lambda pair: pair[1])[:20]\n",
        "for index, value in top_features:\n",
        "  print(index_to_word[index])"
      ],
      "execution_count": 76,
      "outputs": [
        {
          "output_type": "stream",
          "text": [
            "её\n",
            "ещё\n",
            "она\n",
            "очень\n",
            "всё\n",
            "...\n",
            "совсем\n",
            "неё\n",
            "меня\n",
            "была\n",
            "сказал\n",
            "франц\n",
            "возле\n",
            "уже\n",
            "вы\n",
            "всё-таки\n",
            "сказала\n",
            "хорошо\n",
            "сударь\n",
            "как-то\n"
          ],
          "name": "stdout"
        }
      ]
    },
    {
      "cell_type": "code",
      "metadata": {
        "id": "Oao2t1e_FSMo",
        "colab_type": "code",
        "colab": {}
      },
      "source": [
        "new_vector2 = vec.transform([\"\"\" \"\"\"])\n",
        "clf.predict(new_vector2)"
      ],
      "execution_count": 0,
      "outputs": []
    },
    {
      "cell_type": "code",
      "metadata": {
        "id": "qZT75ALLfjKF",
        "colab_type": "code",
        "colab": {
          "base_uri": "https://localhost:8080/",
          "height": 364
        },
        "outputId": "bf0d54d1-469c-4a55-d015-a23e27bb7fc9"
      },
      "source": [
        "top_features = sorted(enumerate(clf.coef_[0]), key=lambda pair: pair[1], reverse=True)[:20]\n",
        "for index, value in top_features:\n",
        "  print(index_to_word[index])"
      ],
      "execution_count": 77,
      "outputs": [
        {
          "output_type": "stream",
          "text": [
            "ее\n",
            "стихло\n",
            "сэр\n",
            "жизнь\n",
            "вскричу\n",
            "еще\n",
            "людьми\n",
            "этот\n",
            "предупрежден\n",
            "дверь\n",
            "оно\n",
            "1\n",
            "их\n",
            "корысти\n",
            "чем\n",
            "здесь\n",
            "возразила\n",
            "музыке\n",
            "закрой\n",
            "камень\n"
          ],
          "name": "stdout"
        }
      ]
    }
  ]
}