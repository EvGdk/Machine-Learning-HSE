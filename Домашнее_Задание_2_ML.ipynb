{
  "nbformat": 4,
  "nbformat_minor": 0,
  "metadata": {
    "colab": {
      "name": "Домашнее Задание 2 ML",
      "provenance": []
    },
    "kernelspec": {
      "name": "python3",
      "display_name": "Python 3"
    }
  },
  "cells": [
    {
      "cell_type": "code",
      "metadata": {
        "id": "2BWUuLlafZe0",
        "colab_type": "code",
        "colab": {}
      },
      "source": [
        "from google.colab import files\n",
        "files.upload()"
      ],
      "execution_count": 0,
      "outputs": []
    },
    {
      "cell_type": "code",
      "metadata": {
        "id": "kPgeB5fpe_LI",
        "colab_type": "code",
        "colab": {}
      },
      "source": [
        "import pandas as pd"
      ],
      "execution_count": 0,
      "outputs": []
    },
    {
      "cell_type": "code",
      "metadata": {
        "id": "nK8XdbX1ftRi",
        "colab_type": "code",
        "colab": {}
      },
      "source": [
        "df = pd.read_csv('reviews.csv')"
      ],
      "execution_count": 0,
      "outputs": []
    },
    {
      "cell_type": "code",
      "metadata": {
        "id": "CYkwzURDfloo",
        "colab_type": "code",
        "colab": {}
      },
      "source": [
        "from sklearn.model_selection import train_test_split\n",
        "from sklearn.feature_extraction.text import CountVectorizer\n",
        "from sklearn.metrics import classification_report"
      ],
      "execution_count": 0,
      "outputs": []
    },
    {
      "cell_type": "code",
      "metadata": {
        "id": "62Oy21N5fpmR",
        "colab_type": "code",
        "colab": {}
      },
      "source": [
        "import nltk\n",
        "from nltk.tokenize import word_tokenize"
      ],
      "execution_count": 0,
      "outputs": []
    },
    {
      "cell_type": "code",
      "metadata": {
        "id": "_FqpMgsQf1YL",
        "colab_type": "code",
        "colab": {}
      },
      "source": [
        "from sklearn.linear_model import LogisticRegression"
      ],
      "execution_count": 0,
      "outputs": []
    },
    {
      "cell_type": "code",
      "metadata": {
        "id": "NLYeQK6GkC-e",
        "colab_type": "code",
        "outputId": "c788f992-0aa2-49c9-f970-37fe6ed2247c",
        "colab": {
          "base_uri": "https://localhost:8080/",
          "height": 176
        }
      },
      "source": [
        "vec = CountVectorizer(tokenizer=word_tokenize)\n",
        "bag_of_words = vec.fit_transform(df.text)\n",
        "X_train, X_test, y_train, y_test = train_test_split(bag_of_words, df.label)\n",
        "lr = LogisticRegression()\n",
        "clf = lr.fit(X_train, y_train)"
      ],
      "execution_count": 0,
      "outputs": [
        {
          "output_type": "stream",
          "text": [
            "/usr/local/lib/python3.6/dist-packages/sklearn/linear_model/_logistic.py:940: ConvergenceWarning: lbfgs failed to converge (status=1):\n",
            "STOP: TOTAL NO. of ITERATIONS REACHED LIMIT.\n",
            "\n",
            "Increase the number of iterations (max_iter) or scale the data as shown in:\n",
            "    https://scikit-learn.org/stable/modules/preprocessing.html\n",
            "Please also refer to the documentation for alternative solver options:\n",
            "    https://scikit-learn.org/stable/modules/linear_model.html#logistic-regression\n",
            "  extra_warning_msg=_LOGISTIC_SOLVER_CONVERGENCE_MSG)\n"
          ],
          "name": "stderr"
        }
      ]
    },
    {
      "cell_type": "code",
      "metadata": {
        "id": "xu2E8fgZ2eQO",
        "colab_type": "code",
        "outputId": "351866f3-8733-474d-e68a-f571dcdb40e6",
        "colab": {
          "base_uri": "https://localhost:8080/",
          "height": 191
        }
      },
      "source": [
        "print(classification_report(y_test, clf.predict(X_test)))"
      ],
      "execution_count": 0,
      "outputs": [
        {
          "output_type": "stream",
          "text": [
            "              precision    recall  f1-score   support\n",
            "\n",
            "          -1       0.62      0.41      0.49       261\n",
            "           0       0.31      0.18      0.22       354\n",
            "           1       0.89      0.96      0.92      3134\n",
            "\n",
            "    accuracy                           0.85      3749\n",
            "   macro avg       0.61      0.52      0.55      3749\n",
            "weighted avg       0.82      0.85      0.83      3749\n",
            "\n"
          ],
          "name": "stdout"
        }
      ]
    },
    {
      "cell_type": "markdown",
      "metadata": {
        "id": "7rZ2JdXaqJhJ",
        "colab_type": "text"
      },
      "source": [
        "# Веса признаков"
      ]
    },
    {
      "cell_type": "code",
      "metadata": {
        "id": "KORTL-fgqIgY",
        "colab_type": "code",
        "outputId": "b5cb81fc-37b7-430d-e58e-a4c4e5970cd0",
        "colab": {
          "base_uri": "https://localhost:8080/",
          "height": 35
        }
      },
      "source": [
        "clf.coef_.shape"
      ],
      "execution_count": 0,
      "outputs": [
        {
          "output_type": "execute_result",
          "data": {
            "text/plain": [
              "(3, 216270)"
            ]
          },
          "metadata": {
            "tags": []
          },
          "execution_count": 42
        }
      ]
    },
    {
      "cell_type": "code",
      "metadata": {
        "id": "0II7HGKWrXWo",
        "colab_type": "code",
        "outputId": "780c59fc-f738-4dd1-b2ee-aa6d979b996f",
        "colab": {
          "base_uri": "https://localhost:8080/",
          "height": 35
        }
      },
      "source": [
        "print(max(enumerate(clf.coef_[0]), key=lambda pair: pair[1]),\n",
        "      max(enumerate(clf.coef_[1]), key=lambda pair: pair[1]),\n",
        "      max(enumerate(clf.coef_[2]), key=lambda pair: pair[1]))"
      ],
      "execution_count": 0,
      "outputs": [
        {
          "output_type": "stream",
          "text": [
            "(102774, 0.6401699100429972) (125744, 0.43722845722102655) (179222, 0.6142234646628411)\n"
          ],
          "name": "stdout"
        }
      ]
    },
    {
      "cell_type": "code",
      "metadata": {
        "id": "ZblQ86xbrd8Z",
        "colab_type": "code",
        "colab": {}
      },
      "source": [
        "index_to_word = {\n",
        "    ind: word\n",
        "    for (word, ind)\n",
        "    in vec.vocabulary_.items()\n",
        "    }"
      ],
      "execution_count": 0,
      "outputs": []
    },
    {
      "cell_type": "code",
      "metadata": {
        "id": "6nF2OLBErgau",
        "colab_type": "code",
        "outputId": "8dde5f7b-eb1c-4fe0-e6c2-86cfbfc7847c",
        "colab": {
          "base_uri": "https://localhost:8080/",
          "height": 69
        }
      },
      "source": [
        "print(\"Топ-слово для отрицательных отзывов: \", '\"',\n",
        "      index_to_word[102774], '\"', \"\\n\", \n",
        "      \"Топ-слово для нейтральных отзывов: \", '\"',\n",
        "      index_to_word[125744], '\"', \"\\n\", \n",
        "      \"Топ-слово для положительных отзывов: \", '\"',\n",
        "      index_to_word[179222], '\"')"
      ],
      "execution_count": 0,
      "outputs": [
        {
          "output_type": "stream",
          "text": [
            "Топ-слово для отрицательных отзывов:  \" никакой \" \n",
            " Топ-слово для нейтральных отзывов:  \" питт \" \n",
            " Топ-слово для положительных отзывов:  \" спасибо \"\n"
          ],
          "name": "stdout"
        }
      ]
    },
    {
      "cell_type": "code",
      "metadata": {
        "id": "CMWBsB1Vrmmt",
        "colab_type": "code",
        "outputId": "e0110cef-a35d-4409-8aa7-147956d6332b",
        "colab": {
          "base_uri": "https://localhost:8080/",
          "height": 191
        }
      },
      "source": [
        "# первые 10 коэффициентов для отрицательных отзывов\n",
        "top_features = sorted(enumerate(clf.coef_[0]), key=lambda pair: pair[1], reverse=True)[:10]\n",
        "for index, value in top_features:\n",
        "  print(index_to_word[index])"
      ],
      "execution_count": 0,
      "outputs": [
        {
          "output_type": "stream",
          "text": [
            "никакой\n",
            "скучно\n",
            "отзывы\n",
            "видимо\n",
            "единственный\n",
            "единственное\n",
            "ощущение\n",
            "рейтинг\n",
            "вместо\n",
            "нее\n"
          ],
          "name": "stdout"
        }
      ]
    },
    {
      "cell_type": "code",
      "metadata": {
        "id": "tBlwmeAz_lVa",
        "colab_type": "code",
        "outputId": "dda811d6-f621-44dd-c1c5-3c5477ef67b2",
        "colab": {
          "base_uri": "https://localhost:8080/",
          "height": 191
        }
      },
      "source": [
        "# первые 10 коэффициентов для нейтральных отзывов\n",
        "top_features = sorted(enumerate(clf.coef_[1]), key=lambda pair: pair[1], reverse=True)[:10]\n",
        "for index, value in top_features:\n",
        "  print(index_to_word[index])"
      ],
      "execution_count": 0,
      "outputs": [
        {
          "output_type": "stream",
          "text": [
            "питт\n",
            "оставил\n",
            "хорошая\n",
            "как-то\n",
            "увы\n",
            "многое\n",
            "тяжело\n",
            "стороны\n",
            "этих\n",
            "свое\n"
          ],
          "name": "stdout"
        }
      ]
    },
    {
      "cell_type": "code",
      "metadata": {
        "id": "vAc6u_Zd_od9",
        "colab_type": "code",
        "outputId": "f2f672e6-1ebe-43f2-bd5f-6eb0794e4135",
        "colab": {
          "base_uri": "https://localhost:8080/",
          "height": 191
        }
      },
      "source": [
        "# первые 10 коэффициентов для положительных отзывов\n",
        "top_features = sorted(enumerate(clf.coef_[2]), key=lambda pair: pair[1], reverse=True)[:10]\n",
        "for index, value in top_features:\n",
        "  print(index_to_word[index])"
      ],
      "execution_count": 0,
      "outputs": [
        {
          "output_type": "stream",
          "text": [
            "спасибо\n",
            "места\n",
            "тарантино\n",
            "задуматься\n",
            "просмотру\n",
            "сначала\n",
            "потрясающий\n",
            "рекомендую\n",
            "однозначно\n",
            "первый\n"
          ],
          "name": "stdout"
        }
      ]
    }
  ]
}