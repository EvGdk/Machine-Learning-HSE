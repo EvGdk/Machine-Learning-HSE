{
  "nbformat": 4,
  "nbformat_minor": 0,
  "metadata": {
    "colab": {
      "name": "Yargy 2",
      "provenance": [],
      "collapsed_sections": [],
      "authorship_tag": "ABX9TyOQKF/cTw6Io4vGmHJH9R3u",
      "include_colab_link": true
    },
    "kernelspec": {
      "name": "python3",
      "display_name": "Python 3"
    }
  },
  "cells": [
    {
      "cell_type": "markdown",
      "metadata": {
        "id": "view-in-github",
        "colab_type": "text"
      },
      "source": [
        "<a href=\"https://colab.research.google.com/github/EvGdk/Machine-Learning-HSE/blob/master/Yargy_2.ipynb\" target=\"_parent\"><img src=\"https://colab.research.google.com/assets/colab-badge.svg\" alt=\"Open In Colab\"/></a>"
      ]
    },
    {
      "cell_type": "code",
      "metadata": {
        "id": "1YnRXuRrLSkQ",
        "colab_type": "code",
        "outputId": "77831902-f28a-42fc-cb92-0cbdc4882d75",
        "colab": {
          "base_uri": "https://localhost:8080/",
          "height": 373
        }
      },
      "source": [
        "!pip install ipymarkup==0.5.0 \n",
        "!pip install yargy"
      ],
      "execution_count": 2,
      "outputs": [
        {
          "output_type": "stream",
          "text": [
            "Collecting ipymarkup==0.5.0\n",
            "  Downloading https://files.pythonhosted.org/packages/d8/29/eaa1bcf649d6333dea829c05577c67f881d0555b6d77c1da72afda5c847d/ipymarkup-0.5.0-py2.py3-none-any.whl\n",
            "Requirement already satisfied: intervaltree==2.1.0 in /usr/local/lib/python3.6/dist-packages (from ipymarkup==0.5.0) (2.1.0)\n",
            "Requirement already satisfied: sortedcontainers in /usr/local/lib/python3.6/dist-packages (from intervaltree==2.1.0->ipymarkup==0.5.0) (2.1.0)\n",
            "Installing collected packages: ipymarkup\n",
            "Successfully installed ipymarkup-0.5.0\n",
            "Collecting yargy\n",
            "\u001b[?25l  Downloading https://files.pythonhosted.org/packages/8e/07/94306844e3a5cb520660612ad98bce56c168edb596679bd541e68dfde089/yargy-0.14.0-py3-none-any.whl (41kB)\n",
            "\u001b[K     |████████████████████████████████| 51kB 2.2MB/s \n",
            "\u001b[?25hCollecting pymorphy2\n",
            "\u001b[?25l  Downloading https://files.pythonhosted.org/packages/a3/33/fff9675c68b5f6c63ec8c6e6ff57827dda28a1fa5b2c2d727dffff92dd47/pymorphy2-0.8-py2.py3-none-any.whl (46kB)\n",
            "\u001b[K     |████████████████████████████████| 51kB 4.8MB/s \n",
            "\u001b[?25hCollecting dawg-python>=0.7\n",
            "  Downloading https://files.pythonhosted.org/packages/6a/84/ff1ce2071d4c650ec85745766c0047ccc3b5036f1d03559fd46bb38b5eeb/DAWG_Python-0.7.2-py2.py3-none-any.whl\n",
            "Collecting pymorphy2-dicts<3.0,>=2.4\n",
            "\u001b[?25l  Downloading https://files.pythonhosted.org/packages/02/51/2465fd4f72328ab50877b54777764d928da8cb15b74e2680fc1bd8cb3173/pymorphy2_dicts-2.4.393442.3710985-py2.py3-none-any.whl (7.1MB)\n",
            "\u001b[K     |████████████████████████████████| 7.1MB 8.4MB/s \n",
            "\u001b[?25hRequirement already satisfied: docopt>=0.6 in /usr/local/lib/python3.6/dist-packages (from pymorphy2->yargy) (0.6.2)\n",
            "Installing collected packages: dawg-python, pymorphy2-dicts, pymorphy2, yargy\n",
            "Successfully installed dawg-python-0.7.2 pymorphy2-0.8 pymorphy2-dicts-2.4.393442.3710985 yargy-0.14.0\n"
          ],
          "name": "stdout"
        }
      ]
    },
    {
      "cell_type": "code",
      "metadata": {
        "id": "VpPUKPsBLhwl",
        "colab_type": "code",
        "colab": {}
      },
      "source": [
        "from yargy import Parser, rule, and_, or_"
      ],
      "execution_count": 0,
      "outputs": []
    },
    {
      "cell_type": "code",
      "metadata": {
        "id": "7P-T6kM6Lxk-",
        "colab_type": "code",
        "colab": {}
      },
      "source": [
        "from yargy.predicates import (\n",
        "    eq, in_, dictionary,\n",
        "    type, gram, normalized)"
      ],
      "execution_count": 0,
      "outputs": []
    },
    {
      "cell_type": "code",
      "metadata": {
        "id": "3LU-prasL0Z_",
        "colab_type": "code",
        "colab": {}
      },
      "source": [
        "from yargy.interpretation import fact, attribute"
      ],
      "execution_count": 0,
      "outputs": []
    },
    {
      "cell_type": "code",
      "metadata": {
        "id": "MJfSqqnbL5pI",
        "colab_type": "code",
        "colab": {}
      },
      "source": [
        "from ipymarkup import show_box_markup\n",
        "from ipymarkup.palette import palette, RED, GREEN\n",
        "from ipymarkup import show_markup"
      ],
      "execution_count": 0,
      "outputs": []
    },
    {
      "cell_type": "code",
      "metadata": {
        "id": "ypmHy6uKWW9e",
        "colab_type": "code",
        "colab": {}
      },
      "source": [
        "from yargy.pipelines import morph_pipeline"
      ],
      "execution_count": 0,
      "outputs": []
    },
    {
      "cell_type": "code",
      "metadata": {
        "id": "7eZM3wro5foG",
        "colab_type": "code",
        "colab": {}
      },
      "source": [
        "from IPython.display import display"
      ],
      "execution_count": 0,
      "outputs": []
    },
    {
      "cell_type": "code",
      "metadata": {
        "id": "rnpp9gXPMEPW",
        "colab_type": "code",
        "colab": {}
      },
      "source": [
        "text = \" Купил за 5 или 6 евро,  потом 5 евро и 7 рублей, у меня украли 3000 евро\""
      ],
      "execution_count": 0,
      "outputs": []
    },
    {
      "cell_type": "code",
      "metadata": {
        "id": "m0AXC--ZMBZW",
        "colab_type": "code",
        "colab": {}
      },
      "source": [
        "Measure = fact(\n",
        "    \"Measure\", [\"amount\", \"currency\"]\n",
        ")\n",
        "\n",
        "CURRENCY = morph_pipeline(['доллар', '$', 'рубль','цент','дирхам','евро', 'копейка']).interpretation(Measure.currency)\n",
        "INT = rule(type('INT'))\n",
        "FLOAT = rule(INT, in_(',.'), INT)\n",
        "\n",
        "\n",
        "RANGE = rule(eq('от'), INT, eq('до'), INT) #не работает\n",
        "RANGE2 = rule(INT, eq('-'), INT)\n",
        "VARIANCE = rule(or_(INT, FLOAT), eq('или'), or_(INT, FLOAT))\n",
        "AMOUNT = or_( INT,FLOAT,VARIANCE,\n",
        "              RANGE2, RANGE).interpretation(Measure.amount)\n",
        "\n",
        "\n",
        "\n",
        "measure = rule(AMOUNT, CURRENCY).interpretation(Measure)\n",
        "parser = Parser(measure)\n"
      ],
      "execution_count": 0,
      "outputs": []
    },
    {
      "cell_type": "code",
      "metadata": {
        "id": "UHlGwjMSKp0r",
        "colab_type": "code",
        "outputId": "300edcbb-a3f7-498f-d5d4-61ad8d3441fb",
        "colab": {
          "base_uri": "https://localhost:8080/",
          "height": 34
        }
      },
      "source": [
        "matches = list(parser.findall(text))\n",
        "spans = [_.span for _ in matches] \n",
        "show_markup(text, spans)"
      ],
      "execution_count": 68,
      "outputs": [
        {
          "output_type": "display_data",
          "data": {
            "text/html": [
              "<div class=\"tex2jax_ignore\" style=\"white-space: pre-wrap\"> Купил за <span style=\"padding: 2px; border-radius: 4px; border: 1px solid #bbdefb; background: #e3f2fd\">5 или 6 евро</span>,  потом <span style=\"padding: 2px; border-radius: 4px; border: 1px solid #bbdefb; background: #e3f2fd\">5 евро</span> и <span style=\"padding: 2px; border-radius: 4px; border: 1px solid #bbdefb; background: #e3f2fd\">7 рублей</span>, у меня украли <span style=\"padding: 2px; border-radius: 4px; border: 1px solid #bbdefb; background: #e3f2fd\">3000 евро</span></div>"
            ],
            "text/plain": [
              "BoxMarkup(' Купил за 5 или 6 евро,  потом 5 евро и 7 рублей, у меня украли 3000 евро',\n",
              "          [Span(10, 22, None),\n",
              "           Span(31, 37, None),\n",
              "           Span(40, 48, None),\n",
              "           Span(64, 73, None)])"
            ]
          },
          "metadata": {
            "tags": []
          }
        }
      ]
    },
    {
      "cell_type": "code",
      "metadata": {
        "id": "AOFrpwRRK-wN",
        "colab_type": "code",
        "outputId": "fbfb8e30-e673-41a1-8360-337fc6a397b1",
        "colab": {
          "base_uri": "https://localhost:8080/",
          "height": 801
        }
      },
      "source": [
        "for match in matches:\n",
        "    display(match.tree.as_dot)"
      ],
      "execution_count": 64,
      "outputs": [
        {
          "output_type": "display_data",
          "data": {
            "text/plain": [
              "Graph(nodes=[...], edges=[...])"
            ],
            "image/svg+xml": "<?xml version=\"1.0\" encoding=\"UTF-8\" standalone=\"no\"?>\n<!DOCTYPE svg PUBLIC \"-//W3C//DTD SVG 1.1//EN\"\n \"http://www.w3.org/Graphics/SVG/1.1/DTD/svg11.dtd\">\n<!-- Generated by graphviz version 2.40.1 (20161225.0304)\n -->\n<!-- Title: G Pages: 1 -->\n<svg width=\"232pt\" height=\"81pt\"\n viewBox=\"0.00 0.00 232.00 81.00\" xmlns=\"http://www.w3.org/2000/svg\" xmlns:xlink=\"http://www.w3.org/1999/xlink\">\n<g id=\"graph0\" class=\"graph\" transform=\"scale(1 1) rotate(0) translate(4 77)\">\n<title>G</title>\n<polygon fill=\"#ffffff\" stroke=\"transparent\" points=\"-4,4 -4,-77 228,-77 228,4 -4,4\"/>\n<!-- 0 -->\n<g id=\"node1\" class=\"node\">\n<title>0</title>\n<polygon fill=\"#dbdb8d\" stroke=\"transparent\" points=\"143,-73 84,-73 84,-54 143,-54 143,-73\"/>\n<text text-anchor=\"middle\" x=\"113.5\" y=\"-61\" font-family=\"sans\" font-size=\"10.00\" fill=\"#000000\">Measure</text>\n</g>\n<!-- 1 -->\n<g id=\"node2\" class=\"node\">\n<title>1</title>\n<polygon fill=\"#dbdb8d\" stroke=\"transparent\" points=\"110,-46 9,-46 9,-27 110,-27 110,-46\"/>\n<text text-anchor=\"middle\" x=\"59.5\" y=\"-34\" font-family=\"sans\" font-size=\"10.00\" fill=\"#000000\">Measure.amount</text>\n</g>\n<!-- 0&#45;&gt;1 -->\n<g id=\"edge1\" class=\"edge\">\n<title>0&#45;&gt;1</title>\n<path fill=\"none\" stroke=\"#c0c0c0\" d=\"M94.3096,-53.9048C90.1716,-51.8358 85.7659,-49.6329 81.5293,-47.5146\"/>\n<polygon fill=\"#c0c0c0\" stroke=\"#c0c0c0\" points=\"81.7815,-46.4669 78.6286,-46.0643 80.8423,-48.3452 81.7815,-46.4669\"/>\n</g>\n<!-- 6 -->\n<g id=\"node7\" class=\"node\">\n<title>6</title>\n<polygon fill=\"#dbdb8d\" stroke=\"transparent\" points=\"224,-46 111,-46 111,-27 224,-27 224,-46\"/>\n<text text-anchor=\"middle\" x=\"167.5\" y=\"-34\" font-family=\"sans\" font-size=\"10.00\" fill=\"#000000\">Measure.currency</text>\n</g>\n<!-- 0&#45;&gt;6 -->\n<g id=\"edge2\" class=\"edge\">\n<title>0&#45;&gt;6</title>\n<path fill=\"none\" stroke=\"#c0c0c0\" d=\"M132.6904,-53.9048C136.8284,-51.8358 141.2341,-49.6329 145.4707,-47.5146\"/>\n<polygon fill=\"#c0c0c0\" stroke=\"#c0c0c0\" points=\"146.1577,-48.3452 148.3714,-46.0643 145.2185,-46.4669 146.1577,-48.3452\"/>\n</g>\n<!-- 2 -->\n<g id=\"node3\" class=\"node\">\n<title>2</title>\n<polygon fill=\"#eeeeee\" stroke=\"transparent\" points=\"29,-19 0,-19 0,0 29,0 29,-19\"/>\n<text text-anchor=\"middle\" x=\"14.5\" y=\"-7\" font-family=\"sans\" font-size=\"10.00\" fill=\"#000000\">от</text>\n</g>\n<!-- 1&#45;&gt;2 -->\n<g id=\"edge3\" class=\"edge\">\n<title>1&#45;&gt;2</title>\n<path fill=\"none\" stroke=\"#c0c0c0\" d=\"M43.508,-26.9048C39.7313,-24.6388 35.6869,-22.2121 31.8532,-19.9119\"/>\n<polygon fill=\"#c0c0c0\" stroke=\"#c0c0c0\" points=\"32.3513,-18.9863 29.2386,-18.3431 31.2708,-20.7871 32.3513,-18.9863\"/>\n</g>\n<!-- 3 -->\n<g id=\"node4\" class=\"node\">\n<title>3</title>\n<polygon fill=\"#eeeeee\" stroke=\"transparent\" points=\"59,-19 30,-19 30,0 59,0 59,-19\"/>\n<text text-anchor=\"middle\" x=\"44.5\" y=\"-7\" font-family=\"sans\" font-size=\"10.00\" fill=\"#000000\">12</text>\n</g>\n<!-- 1&#45;&gt;3 -->\n<g id=\"edge4\" class=\"edge\">\n<title>1&#45;&gt;3</title>\n<path fill=\"none\" stroke=\"#c0c0c0\" d=\"M54.0847,-26.7524C53.2455,-25.2419 52.3685,-23.6633 51.5005,-22.1008\"/>\n<polygon fill=\"#c0c0c0\" stroke=\"#c0c0c0\" points=\"52.3326,-21.4365 49.9578,-19.324 50.4969,-22.4564 52.3326,-21.4365\"/>\n</g>\n<!-- 4 -->\n<g id=\"node5\" class=\"node\">\n<title>4</title>\n<polygon fill=\"#eeeeee\" stroke=\"transparent\" points=\"89,-19 60,-19 60,0 89,0 89,-19\"/>\n<text text-anchor=\"middle\" x=\"74.5\" y=\"-7\" font-family=\"sans\" font-size=\"10.00\" fill=\"#000000\">до</text>\n</g>\n<!-- 1&#45;&gt;4 -->\n<g id=\"edge5\" class=\"edge\">\n<title>1&#45;&gt;4</title>\n<path fill=\"none\" stroke=\"#c0c0c0\" d=\"M64.9153,-26.7524C65.7545,-25.2419 66.6315,-23.6633 67.4995,-22.1008\"/>\n<polygon fill=\"#c0c0c0\" stroke=\"#c0c0c0\" points=\"68.5031,-22.4564 69.0422,-19.324 66.6674,-21.4365 68.5031,-22.4564\"/>\n</g>\n<!-- 5 -->\n<g id=\"node6\" class=\"node\">\n<title>5</title>\n<polygon fill=\"#eeeeee\" stroke=\"transparent\" points=\"119,-19 90,-19 90,0 119,0 119,-19\"/>\n<text text-anchor=\"middle\" x=\"104.5\" y=\"-7\" font-family=\"sans\" font-size=\"10.00\" fill=\"#000000\">50</text>\n</g>\n<!-- 1&#45;&gt;5 -->\n<g id=\"edge6\" class=\"edge\">\n<title>1&#45;&gt;5</title>\n<path fill=\"none\" stroke=\"#c0c0c0\" d=\"M75.492,-26.9048C79.2687,-24.6388 83.3131,-22.2121 87.1468,-19.9119\"/>\n<polygon fill=\"#c0c0c0\" stroke=\"#c0c0c0\" points=\"87.7292,-20.7871 89.7614,-18.3431 86.6487,-18.9863 87.7292,-20.7871\"/>\n</g>\n<!-- 7 -->\n<g id=\"node8\" class=\"node\">\n<title>7</title>\n<polygon fill=\"#eeeeee\" stroke=\"transparent\" points=\"200,-19 135,-19 135,0 200,0 200,-19\"/>\n<text text-anchor=\"middle\" x=\"167.5\" y=\"-7\" font-family=\"sans\" font-size=\"10.00\" fill=\"#000000\">долларов</text>\n</g>\n<!-- 6&#45;&gt;7 -->\n<g id=\"edge7\" class=\"edge\">\n<title>6&#45;&gt;7</title>\n<path fill=\"none\" stroke=\"#c0c0c0\" d=\"M167.5,-26.7524C167.5,-25.3929 167.5,-23.9783 167.5,-22.5699\"/>\n<polygon fill=\"#c0c0c0\" stroke=\"#c0c0c0\" points=\"168.5501,-22.324 167.5,-19.324 166.4501,-22.324 168.5501,-22.324\"/>\n</g>\n</g>\n</svg>\n"
          },
          "metadata": {
            "tags": []
          }
        },
        {
          "output_type": "display_data",
          "data": {
            "text/plain": [
              "Graph(nodes=[...], edges=[...])"
            ],
            "image/svg+xml": "<?xml version=\"1.0\" encoding=\"UTF-8\" standalone=\"no\"?>\n<!DOCTYPE svg PUBLIC \"-//W3C//DTD SVG 1.1//EN\"\n \"http://www.w3.org/Graphics/SVG/1.1/DTD/svg11.dtd\">\n<!-- Generated by graphviz version 2.40.1 (20161225.0304)\n -->\n<!-- Title: G Pages: 1 -->\n<svg width=\"223pt\" height=\"81pt\"\n viewBox=\"0.00 0.00 223.00 81.00\" xmlns=\"http://www.w3.org/2000/svg\" xmlns:xlink=\"http://www.w3.org/1999/xlink\">\n<g id=\"graph0\" class=\"graph\" transform=\"scale(1 1) rotate(0) translate(4 77)\">\n<title>G</title>\n<polygon fill=\"#ffffff\" stroke=\"transparent\" points=\"-4,4 -4,-77 219,-77 219,4 -4,4\"/>\n<!-- 0 -->\n<g id=\"node1\" class=\"node\">\n<title>0</title>\n<polygon fill=\"#dbdb8d\" stroke=\"transparent\" points=\"134,-73 75,-73 75,-54 134,-54 134,-73\"/>\n<text text-anchor=\"middle\" x=\"104.5\" y=\"-61\" font-family=\"sans\" font-size=\"10.00\" fill=\"#000000\">Measure</text>\n</g>\n<!-- 1 -->\n<g id=\"node2\" class=\"node\">\n<title>1</title>\n<polygon fill=\"#dbdb8d\" stroke=\"transparent\" points=\"101,-46 0,-46 0,-27 101,-27 101,-46\"/>\n<text text-anchor=\"middle\" x=\"50.5\" y=\"-34\" font-family=\"sans\" font-size=\"10.00\" fill=\"#000000\">Measure.amount</text>\n</g>\n<!-- 0&#45;&gt;1 -->\n<g id=\"edge1\" class=\"edge\">\n<title>0&#45;&gt;1</title>\n<path fill=\"none\" stroke=\"#c0c0c0\" d=\"M85.3096,-53.9048C81.1716,-51.8358 76.7659,-49.6329 72.5293,-47.5146\"/>\n<polygon fill=\"#c0c0c0\" stroke=\"#c0c0c0\" points=\"72.7815,-46.4669 69.6286,-46.0643 71.8423,-48.3452 72.7815,-46.4669\"/>\n</g>\n<!-- 5 -->\n<g id=\"node6\" class=\"node\">\n<title>5</title>\n<polygon fill=\"#dbdb8d\" stroke=\"transparent\" points=\"215,-46 102,-46 102,-27 215,-27 215,-46\"/>\n<text text-anchor=\"middle\" x=\"158.5\" y=\"-34\" font-family=\"sans\" font-size=\"10.00\" fill=\"#000000\">Measure.currency</text>\n</g>\n<!-- 0&#45;&gt;5 -->\n<g id=\"edge2\" class=\"edge\">\n<title>0&#45;&gt;5</title>\n<path fill=\"none\" stroke=\"#c0c0c0\" d=\"M123.6904,-53.9048C127.8284,-51.8358 132.2341,-49.6329 136.4707,-47.5146\"/>\n<polygon fill=\"#c0c0c0\" stroke=\"#c0c0c0\" points=\"137.1577,-48.3452 139.3714,-46.0643 136.2185,-46.4669 137.1577,-48.3452\"/>\n</g>\n<!-- 2 -->\n<g id=\"node3\" class=\"node\">\n<title>2</title>\n<polygon fill=\"#eeeeee\" stroke=\"transparent\" points=\"38,-19 9,-19 9,0 38,0 38,-19\"/>\n<text text-anchor=\"middle\" x=\"23.5\" y=\"-7\" font-family=\"sans\" font-size=\"10.00\" fill=\"#000000\">20</text>\n</g>\n<!-- 1&#45;&gt;2 -->\n<g id=\"edge3\" class=\"edge\">\n<title>1&#45;&gt;2</title>\n<path fill=\"none\" stroke=\"#c0c0c0\" d=\"M40.7524,-26.7524C39.0908,-25.0908 37.3469,-23.3469 35.6326,-21.6326\"/>\n<polygon fill=\"#c0c0c0\" stroke=\"#c0c0c0\" points=\"36.1878,-20.7029 33.324,-19.324 34.7029,-22.1878 36.1878,-20.7029\"/>\n</g>\n<!-- 3 -->\n<g id=\"node4\" class=\"node\">\n<title>3</title>\n<polygon fill=\"#eeeeee\" stroke=\"transparent\" points=\"62,-19 39,-19 39,0 62,0 62,-19\"/>\n<text text-anchor=\"middle\" x=\"50.5\" y=\"-7\" font-family=\"sans\" font-size=\"10.00\" fill=\"#000000\">&#45;</text>\n</g>\n<!-- 1&#45;&gt;3 -->\n<g id=\"edge4\" class=\"edge\">\n<title>1&#45;&gt;3</title>\n<path fill=\"none\" stroke=\"#c0c0c0\" d=\"M50.5,-26.7524C50.5,-25.3929 50.5,-23.9783 50.5,-22.5699\"/>\n<polygon fill=\"#c0c0c0\" stroke=\"#c0c0c0\" points=\"51.5501,-22.324 50.5,-19.324 49.4501,-22.324 51.5501,-22.324\"/>\n</g>\n<!-- 4 -->\n<g id=\"node5\" class=\"node\">\n<title>4</title>\n<polygon fill=\"#eeeeee\" stroke=\"transparent\" points=\"92,-19 63,-19 63,0 92,0 92,-19\"/>\n<text text-anchor=\"middle\" x=\"77.5\" y=\"-7\" font-family=\"sans\" font-size=\"10.00\" fill=\"#000000\">40</text>\n</g>\n<!-- 1&#45;&gt;4 -->\n<g id=\"edge5\" class=\"edge\">\n<title>1&#45;&gt;4</title>\n<path fill=\"none\" stroke=\"#c0c0c0\" d=\"M60.2476,-26.7524C61.9092,-25.0908 63.6531,-23.3469 65.3674,-21.6326\"/>\n<polygon fill=\"#c0c0c0\" stroke=\"#c0c0c0\" points=\"66.2971,-22.1878 67.676,-19.324 64.8122,-20.7029 66.2971,-22.1878\"/>\n</g>\n<!-- 6 -->\n<g id=\"node7\" class=\"node\">\n<title>6</title>\n<polygon fill=\"#eeeeee\" stroke=\"transparent\" points=\"179,-19 138,-19 138,0 179,0 179,-19\"/>\n<text text-anchor=\"middle\" x=\"158.5\" y=\"-7\" font-family=\"sans\" font-size=\"10.00\" fill=\"#000000\">евро</text>\n</g>\n<!-- 5&#45;&gt;6 -->\n<g id=\"edge6\" class=\"edge\">\n<title>5&#45;&gt;6</title>\n<path fill=\"none\" stroke=\"#c0c0c0\" d=\"M158.5,-26.7524C158.5,-25.3929 158.5,-23.9783 158.5,-22.5699\"/>\n<polygon fill=\"#c0c0c0\" stroke=\"#c0c0c0\" points=\"159.5501,-22.324 158.5,-19.324 157.4501,-22.324 159.5501,-22.324\"/>\n</g>\n</g>\n</svg>\n"
          },
          "metadata": {
            "tags": []
          }
        },
        {
          "output_type": "display_data",
          "data": {
            "text/plain": [
              "Graph(nodes=[...], edges=[...])"
            ],
            "image/svg+xml": "<?xml version=\"1.0\" encoding=\"UTF-8\" standalone=\"no\"?>\n<!DOCTYPE svg PUBLIC \"-//W3C//DTD SVG 1.1//EN\"\n \"http://www.w3.org/Graphics/SVG/1.1/DTD/svg11.dtd\">\n<!-- Generated by graphviz version 2.40.1 (20161225.0304)\n -->\n<!-- Title: G Pages: 1 -->\n<svg width=\"223pt\" height=\"81pt\"\n viewBox=\"0.00 0.00 223.00 81.00\" xmlns=\"http://www.w3.org/2000/svg\" xmlns:xlink=\"http://www.w3.org/1999/xlink\">\n<g id=\"graph0\" class=\"graph\" transform=\"scale(1 1) rotate(0) translate(4 77)\">\n<title>G</title>\n<polygon fill=\"#ffffff\" stroke=\"transparent\" points=\"-4,4 -4,-77 219,-77 219,4 -4,4\"/>\n<!-- 0 -->\n<g id=\"node1\" class=\"node\">\n<title>0</title>\n<polygon fill=\"#dbdb8d\" stroke=\"transparent\" points=\"134,-73 75,-73 75,-54 134,-54 134,-73\"/>\n<text text-anchor=\"middle\" x=\"104.5\" y=\"-61\" font-family=\"sans\" font-size=\"10.00\" fill=\"#000000\">Measure</text>\n</g>\n<!-- 1 -->\n<g id=\"node2\" class=\"node\">\n<title>1</title>\n<polygon fill=\"#dbdb8d\" stroke=\"transparent\" points=\"101,-46 0,-46 0,-27 101,-27 101,-46\"/>\n<text text-anchor=\"middle\" x=\"50.5\" y=\"-34\" font-family=\"sans\" font-size=\"10.00\" fill=\"#000000\">Measure.amount</text>\n</g>\n<!-- 0&#45;&gt;1 -->\n<g id=\"edge1\" class=\"edge\">\n<title>0&#45;&gt;1</title>\n<path fill=\"none\" stroke=\"#c0c0c0\" d=\"M85.3096,-53.9048C81.1716,-51.8358 76.7659,-49.6329 72.5293,-47.5146\"/>\n<polygon fill=\"#c0c0c0\" stroke=\"#c0c0c0\" points=\"72.7815,-46.4669 69.6286,-46.0643 71.8423,-48.3452 72.7815,-46.4669\"/>\n</g>\n<!-- 5 -->\n<g id=\"node6\" class=\"node\">\n<title>5</title>\n<polygon fill=\"#dbdb8d\" stroke=\"transparent\" points=\"215,-46 102,-46 102,-27 215,-27 215,-46\"/>\n<text text-anchor=\"middle\" x=\"158.5\" y=\"-34\" font-family=\"sans\" font-size=\"10.00\" fill=\"#000000\">Measure.currency</text>\n</g>\n<!-- 0&#45;&gt;5 -->\n<g id=\"edge2\" class=\"edge\">\n<title>0&#45;&gt;5</title>\n<path fill=\"none\" stroke=\"#c0c0c0\" d=\"M123.6904,-53.9048C127.8284,-51.8358 132.2341,-49.6329 136.4707,-47.5146\"/>\n<polygon fill=\"#c0c0c0\" stroke=\"#c0c0c0\" points=\"137.1577,-48.3452 139.3714,-46.0643 136.2185,-46.4669 137.1577,-48.3452\"/>\n</g>\n<!-- 2 -->\n<g id=\"node3\" class=\"node\">\n<title>2</title>\n<polygon fill=\"#eeeeee\" stroke=\"transparent\" points=\"38,-19 15,-19 15,0 38,0 38,-19\"/>\n<text text-anchor=\"middle\" x=\"26.5\" y=\"-7\" font-family=\"sans\" font-size=\"10.00\" fill=\"#000000\">4</text>\n</g>\n<!-- 1&#45;&gt;2 -->\n<g id=\"edge3\" class=\"edge\">\n<title>1&#45;&gt;2</title>\n<path fill=\"none\" stroke=\"#c0c0c0\" d=\"M41.8354,-26.7524C40.3585,-25.0908 38.8083,-23.3469 37.2846,-21.6326\"/>\n<polygon fill=\"#c0c0c0\" stroke=\"#c0c0c0\" points=\"38.0104,-20.8687 35.2324,-19.324 36.4408,-22.2638 38.0104,-20.8687\"/>\n</g>\n<!-- 3 -->\n<g id=\"node4\" class=\"node\">\n<title>3</title>\n<polygon fill=\"#eeeeee\" stroke=\"transparent\" points=\"62,-19 39,-19 39,0 62,0 62,-19\"/>\n<text text-anchor=\"middle\" x=\"50.5\" y=\"-7\" font-family=\"sans\" font-size=\"10.00\" fill=\"#000000\">,</text>\n</g>\n<!-- 1&#45;&gt;3 -->\n<g id=\"edge4\" class=\"edge\">\n<title>1&#45;&gt;3</title>\n<path fill=\"none\" stroke=\"#c0c0c0\" d=\"M50.5,-26.7524C50.5,-25.3929 50.5,-23.9783 50.5,-22.5699\"/>\n<polygon fill=\"#c0c0c0\" stroke=\"#c0c0c0\" points=\"51.5501,-22.324 50.5,-19.324 49.4501,-22.324 51.5501,-22.324\"/>\n</g>\n<!-- 4 -->\n<g id=\"node5\" class=\"node\">\n<title>4</title>\n<polygon fill=\"#eeeeee\" stroke=\"transparent\" points=\"86,-19 63,-19 63,0 86,0 86,-19\"/>\n<text text-anchor=\"middle\" x=\"74.5\" y=\"-7\" font-family=\"sans\" font-size=\"10.00\" fill=\"#000000\">5</text>\n</g>\n<!-- 1&#45;&gt;4 -->\n<g id=\"edge5\" class=\"edge\">\n<title>1&#45;&gt;4</title>\n<path fill=\"none\" stroke=\"#c0c0c0\" d=\"M59.1646,-26.7524C60.6415,-25.0908 62.1917,-23.3469 63.7154,-21.6326\"/>\n<polygon fill=\"#c0c0c0\" stroke=\"#c0c0c0\" points=\"64.5592,-22.2638 65.7676,-19.324 62.9896,-20.8687 64.5592,-22.2638\"/>\n</g>\n<!-- 6 -->\n<g id=\"node7\" class=\"node\">\n<title>6</title>\n<polygon fill=\"#eeeeee\" stroke=\"transparent\" points=\"185,-19 132,-19 132,0 185,0 185,-19\"/>\n<text text-anchor=\"middle\" x=\"158.5\" y=\"-7\" font-family=\"sans\" font-size=\"10.00\" fill=\"#000000\">центов</text>\n</g>\n<!-- 5&#45;&gt;6 -->\n<g id=\"edge6\" class=\"edge\">\n<title>5&#45;&gt;6</title>\n<path fill=\"none\" stroke=\"#c0c0c0\" d=\"M158.5,-26.7524C158.5,-25.3929 158.5,-23.9783 158.5,-22.5699\"/>\n<polygon fill=\"#c0c0c0\" stroke=\"#c0c0c0\" points=\"159.5501,-22.324 158.5,-19.324 157.4501,-22.324 159.5501,-22.324\"/>\n</g>\n</g>\n</svg>\n"
          },
          "metadata": {
            "tags": []
          }
        },
        {
          "output_type": "display_data",
          "data": {
            "text/plain": [
              "Graph(nodes=[...], edges=[...])"
            ],
            "image/svg+xml": "<?xml version=\"1.0\" encoding=\"UTF-8\" standalone=\"no\"?>\n<!DOCTYPE svg PUBLIC \"-//W3C//DTD SVG 1.1//EN\"\n \"http://www.w3.org/Graphics/SVG/1.1/DTD/svg11.dtd\">\n<!-- Generated by graphviz version 2.40.1 (20161225.0304)\n -->\n<!-- Title: G Pages: 1 -->\n<svg width=\"223pt\" height=\"81pt\"\n viewBox=\"0.00 0.00 223.00 81.00\" xmlns=\"http://www.w3.org/2000/svg\" xmlns:xlink=\"http://www.w3.org/1999/xlink\">\n<g id=\"graph0\" class=\"graph\" transform=\"scale(1 1) rotate(0) translate(4 77)\">\n<title>G</title>\n<polygon fill=\"#ffffff\" stroke=\"transparent\" points=\"-4,4 -4,-77 219,-77 219,4 -4,4\"/>\n<!-- 0 -->\n<g id=\"node1\" class=\"node\">\n<title>0</title>\n<polygon fill=\"#dbdb8d\" stroke=\"transparent\" points=\"134,-73 75,-73 75,-54 134,-54 134,-73\"/>\n<text text-anchor=\"middle\" x=\"104.5\" y=\"-61\" font-family=\"sans\" font-size=\"10.00\" fill=\"#000000\">Measure</text>\n</g>\n<!-- 1 -->\n<g id=\"node2\" class=\"node\">\n<title>1</title>\n<polygon fill=\"#dbdb8d\" stroke=\"transparent\" points=\"101,-46 0,-46 0,-27 101,-27 101,-46\"/>\n<text text-anchor=\"middle\" x=\"50.5\" y=\"-34\" font-family=\"sans\" font-size=\"10.00\" fill=\"#000000\">Measure.amount</text>\n</g>\n<!-- 0&#45;&gt;1 -->\n<g id=\"edge1\" class=\"edge\">\n<title>0&#45;&gt;1</title>\n<path fill=\"none\" stroke=\"#c0c0c0\" d=\"M85.3096,-53.9048C81.1716,-51.8358 76.7659,-49.6329 72.5293,-47.5146\"/>\n<polygon fill=\"#c0c0c0\" stroke=\"#c0c0c0\" points=\"72.7815,-46.4669 69.6286,-46.0643 71.8423,-48.3452 72.7815,-46.4669\"/>\n</g>\n<!-- 5 -->\n<g id=\"node6\" class=\"node\">\n<title>5</title>\n<polygon fill=\"#dbdb8d\" stroke=\"transparent\" points=\"215,-46 102,-46 102,-27 215,-27 215,-46\"/>\n<text text-anchor=\"middle\" x=\"158.5\" y=\"-34\" font-family=\"sans\" font-size=\"10.00\" fill=\"#000000\">Measure.currency</text>\n</g>\n<!-- 0&#45;&gt;5 -->\n<g id=\"edge2\" class=\"edge\">\n<title>0&#45;&gt;5</title>\n<path fill=\"none\" stroke=\"#c0c0c0\" d=\"M123.6904,-53.9048C127.8284,-51.8358 132.2341,-49.6329 136.4707,-47.5146\"/>\n<polygon fill=\"#c0c0c0\" stroke=\"#c0c0c0\" points=\"137.1577,-48.3452 139.3714,-46.0643 136.2185,-46.4669 137.1577,-48.3452\"/>\n</g>\n<!-- 2 -->\n<g id=\"node3\" class=\"node\">\n<title>2</title>\n<polygon fill=\"#eeeeee\" stroke=\"transparent\" points=\"38,-19 15,-19 15,0 38,0 38,-19\"/>\n<text text-anchor=\"middle\" x=\"26.5\" y=\"-7\" font-family=\"sans\" font-size=\"10.00\" fill=\"#000000\">8</text>\n</g>\n<!-- 1&#45;&gt;2 -->\n<g id=\"edge3\" class=\"edge\">\n<title>1&#45;&gt;2</title>\n<path fill=\"none\" stroke=\"#c0c0c0\" d=\"M41.8354,-26.7524C40.3585,-25.0908 38.8083,-23.3469 37.2846,-21.6326\"/>\n<polygon fill=\"#c0c0c0\" stroke=\"#c0c0c0\" points=\"38.0104,-20.8687 35.2324,-19.324 36.4408,-22.2638 38.0104,-20.8687\"/>\n</g>\n<!-- 3 -->\n<g id=\"node4\" class=\"node\">\n<title>3</title>\n<polygon fill=\"#eeeeee\" stroke=\"transparent\" points=\"62,-19 39,-19 39,0 62,0 62,-19\"/>\n<text text-anchor=\"middle\" x=\"50.5\" y=\"-7\" font-family=\"sans\" font-size=\"10.00\" fill=\"#000000\">,</text>\n</g>\n<!-- 1&#45;&gt;3 -->\n<g id=\"edge4\" class=\"edge\">\n<title>1&#45;&gt;3</title>\n<path fill=\"none\" stroke=\"#c0c0c0\" d=\"M50.5,-26.7524C50.5,-25.3929 50.5,-23.9783 50.5,-22.5699\"/>\n<polygon fill=\"#c0c0c0\" stroke=\"#c0c0c0\" points=\"51.5501,-22.324 50.5,-19.324 49.4501,-22.324 51.5501,-22.324\"/>\n</g>\n<!-- 4 -->\n<g id=\"node5\" class=\"node\">\n<title>4</title>\n<polygon fill=\"#eeeeee\" stroke=\"transparent\" points=\"86,-19 63,-19 63,0 86,0 86,-19\"/>\n<text text-anchor=\"middle\" x=\"74.5\" y=\"-7\" font-family=\"sans\" font-size=\"10.00\" fill=\"#000000\">8</text>\n</g>\n<!-- 1&#45;&gt;4 -->\n<g id=\"edge5\" class=\"edge\">\n<title>1&#45;&gt;4</title>\n<path fill=\"none\" stroke=\"#c0c0c0\" d=\"M59.1646,-26.7524C60.6415,-25.0908 62.1917,-23.3469 63.7154,-21.6326\"/>\n<polygon fill=\"#c0c0c0\" stroke=\"#c0c0c0\" points=\"64.5592,-22.2638 65.7676,-19.324 62.9896,-20.8687 64.5592,-22.2638\"/>\n</g>\n<!-- 6 -->\n<g id=\"node7\" class=\"node\">\n<title>6</title>\n<polygon fill=\"#eeeeee\" stroke=\"transparent\" points=\"191,-19 126,-19 126,0 191,0 191,-19\"/>\n<text text-anchor=\"middle\" x=\"158.5\" y=\"-7\" font-family=\"sans\" font-size=\"10.00\" fill=\"#000000\">дирхамов</text>\n</g>\n<!-- 5&#45;&gt;6 -->\n<g id=\"edge6\" class=\"edge\">\n<title>5&#45;&gt;6</title>\n<path fill=\"none\" stroke=\"#c0c0c0\" d=\"M158.5,-26.7524C158.5,-25.3929 158.5,-23.9783 158.5,-22.5699\"/>\n<polygon fill=\"#c0c0c0\" stroke=\"#c0c0c0\" points=\"159.5501,-22.324 158.5,-19.324 157.4501,-22.324 159.5501,-22.324\"/>\n</g>\n</g>\n</svg>\n"
          },
          "metadata": {
            "tags": []
          }
        },
        {
          "output_type": "display_data",
          "data": {
            "text/plain": [
              "Graph(nodes=[...], edges=[...])"
            ],
            "image/svg+xml": "<?xml version=\"1.0\" encoding=\"UTF-8\" standalone=\"no\"?>\n<!DOCTYPE svg PUBLIC \"-//W3C//DTD SVG 1.1//EN\"\n \"http://www.w3.org/Graphics/SVG/1.1/DTD/svg11.dtd\">\n<!-- Generated by graphviz version 2.40.1 (20161225.0304)\n -->\n<!-- Title: G Pages: 1 -->\n<svg width=\"223pt\" height=\"81pt\"\n viewBox=\"0.00 0.00 223.00 81.00\" xmlns=\"http://www.w3.org/2000/svg\" xmlns:xlink=\"http://www.w3.org/1999/xlink\">\n<g id=\"graph0\" class=\"graph\" transform=\"scale(1 1) rotate(0) translate(4 77)\">\n<title>G</title>\n<polygon fill=\"#ffffff\" stroke=\"transparent\" points=\"-4,4 -4,-77 219,-77 219,4 -4,4\"/>\n<!-- 0 -->\n<g id=\"node1\" class=\"node\">\n<title>0</title>\n<polygon fill=\"#dbdb8d\" stroke=\"transparent\" points=\"134,-73 75,-73 75,-54 134,-54 134,-73\"/>\n<text text-anchor=\"middle\" x=\"104.5\" y=\"-61\" font-family=\"sans\" font-size=\"10.00\" fill=\"#000000\">Measure</text>\n</g>\n<!-- 1 -->\n<g id=\"node2\" class=\"node\">\n<title>1</title>\n<polygon fill=\"#dbdb8d\" stroke=\"transparent\" points=\"101,-46 0,-46 0,-27 101,-27 101,-46\"/>\n<text text-anchor=\"middle\" x=\"50.5\" y=\"-34\" font-family=\"sans\" font-size=\"10.00\" fill=\"#000000\">Measure.amount</text>\n</g>\n<!-- 0&#45;&gt;1 -->\n<g id=\"edge1\" class=\"edge\">\n<title>0&#45;&gt;1</title>\n<path fill=\"none\" stroke=\"#c0c0c0\" d=\"M85.3096,-53.9048C81.1716,-51.8358 76.7659,-49.6329 72.5293,-47.5146\"/>\n<polygon fill=\"#c0c0c0\" stroke=\"#c0c0c0\" points=\"72.7815,-46.4669 69.6286,-46.0643 71.8423,-48.3452 72.7815,-46.4669\"/>\n</g>\n<!-- 3 -->\n<g id=\"node4\" class=\"node\">\n<title>3</title>\n<polygon fill=\"#dbdb8d\" stroke=\"transparent\" points=\"215,-46 102,-46 102,-27 215,-27 215,-46\"/>\n<text text-anchor=\"middle\" x=\"158.5\" y=\"-34\" font-family=\"sans\" font-size=\"10.00\" fill=\"#000000\">Measure.currency</text>\n</g>\n<!-- 0&#45;&gt;3 -->\n<g id=\"edge2\" class=\"edge\">\n<title>0&#45;&gt;3</title>\n<path fill=\"none\" stroke=\"#c0c0c0\" d=\"M123.6904,-53.9048C127.8284,-51.8358 132.2341,-49.6329 136.4707,-47.5146\"/>\n<polygon fill=\"#c0c0c0\" stroke=\"#c0c0c0\" points=\"137.1577,-48.3452 139.3714,-46.0643 136.2185,-46.4669 137.1577,-48.3452\"/>\n</g>\n<!-- 2 -->\n<g id=\"node3\" class=\"node\">\n<title>2</title>\n<polygon fill=\"#eeeeee\" stroke=\"transparent\" points=\"62,-19 39,-19 39,0 62,0 62,-19\"/>\n<text text-anchor=\"middle\" x=\"50.5\" y=\"-7\" font-family=\"sans\" font-size=\"10.00\" fill=\"#000000\">5</text>\n</g>\n<!-- 1&#45;&gt;2 -->\n<g id=\"edge3\" class=\"edge\">\n<title>1&#45;&gt;2</title>\n<path fill=\"none\" stroke=\"#c0c0c0\" d=\"M50.5,-26.7524C50.5,-25.3929 50.5,-23.9783 50.5,-22.5699\"/>\n<polygon fill=\"#c0c0c0\" stroke=\"#c0c0c0\" points=\"51.5501,-22.324 50.5,-19.324 49.4501,-22.324 51.5501,-22.324\"/>\n</g>\n<!-- 4 -->\n<g id=\"node5\" class=\"node\">\n<title>4</title>\n<polygon fill=\"#eeeeee\" stroke=\"transparent\" points=\"179,-19 138,-19 138,0 179,0 179,-19\"/>\n<text text-anchor=\"middle\" x=\"158.5\" y=\"-7\" font-family=\"sans\" font-size=\"10.00\" fill=\"#000000\">евро</text>\n</g>\n<!-- 3&#45;&gt;4 -->\n<g id=\"edge4\" class=\"edge\">\n<title>3&#45;&gt;4</title>\n<path fill=\"none\" stroke=\"#c0c0c0\" d=\"M158.5,-26.7524C158.5,-25.3929 158.5,-23.9783 158.5,-22.5699\"/>\n<polygon fill=\"#c0c0c0\" stroke=\"#c0c0c0\" points=\"159.5501,-22.324 158.5,-19.324 157.4501,-22.324 159.5501,-22.324\"/>\n</g>\n</g>\n</svg>\n"
          },
          "metadata": {
            "tags": []
          }
        },
        {
          "output_type": "display_data",
          "data": {
            "text/plain": [
              "Graph(nodes=[...], edges=[...])"
            ],
            "image/svg+xml": "<?xml version=\"1.0\" encoding=\"UTF-8\" standalone=\"no\"?>\n<!DOCTYPE svg PUBLIC \"-//W3C//DTD SVG 1.1//EN\"\n \"http://www.w3.org/Graphics/SVG/1.1/DTD/svg11.dtd\">\n<!-- Generated by graphviz version 2.40.1 (20161225.0304)\n -->\n<!-- Title: G Pages: 1 -->\n<svg width=\"223pt\" height=\"81pt\"\n viewBox=\"0.00 0.00 223.00 81.00\" xmlns=\"http://www.w3.org/2000/svg\" xmlns:xlink=\"http://www.w3.org/1999/xlink\">\n<g id=\"graph0\" class=\"graph\" transform=\"scale(1 1) rotate(0) translate(4 77)\">\n<title>G</title>\n<polygon fill=\"#ffffff\" stroke=\"transparent\" points=\"-4,4 -4,-77 219,-77 219,4 -4,4\"/>\n<!-- 0 -->\n<g id=\"node1\" class=\"node\">\n<title>0</title>\n<polygon fill=\"#dbdb8d\" stroke=\"transparent\" points=\"134,-73 75,-73 75,-54 134,-54 134,-73\"/>\n<text text-anchor=\"middle\" x=\"104.5\" y=\"-61\" font-family=\"sans\" font-size=\"10.00\" fill=\"#000000\">Measure</text>\n</g>\n<!-- 1 -->\n<g id=\"node2\" class=\"node\">\n<title>1</title>\n<polygon fill=\"#dbdb8d\" stroke=\"transparent\" points=\"101,-46 0,-46 0,-27 101,-27 101,-46\"/>\n<text text-anchor=\"middle\" x=\"50.5\" y=\"-34\" font-family=\"sans\" font-size=\"10.00\" fill=\"#000000\">Measure.amount</text>\n</g>\n<!-- 0&#45;&gt;1 -->\n<g id=\"edge1\" class=\"edge\">\n<title>0&#45;&gt;1</title>\n<path fill=\"none\" stroke=\"#c0c0c0\" d=\"M85.3096,-53.9048C81.1716,-51.8358 76.7659,-49.6329 72.5293,-47.5146\"/>\n<polygon fill=\"#c0c0c0\" stroke=\"#c0c0c0\" points=\"72.7815,-46.4669 69.6286,-46.0643 71.8423,-48.3452 72.7815,-46.4669\"/>\n</g>\n<!-- 3 -->\n<g id=\"node4\" class=\"node\">\n<title>3</title>\n<polygon fill=\"#dbdb8d\" stroke=\"transparent\" points=\"215,-46 102,-46 102,-27 215,-27 215,-46\"/>\n<text text-anchor=\"middle\" x=\"158.5\" y=\"-34\" font-family=\"sans\" font-size=\"10.00\" fill=\"#000000\">Measure.currency</text>\n</g>\n<!-- 0&#45;&gt;3 -->\n<g id=\"edge2\" class=\"edge\">\n<title>0&#45;&gt;3</title>\n<path fill=\"none\" stroke=\"#c0c0c0\" d=\"M123.6904,-53.9048C127.8284,-51.8358 132.2341,-49.6329 136.4707,-47.5146\"/>\n<polygon fill=\"#c0c0c0\" stroke=\"#c0c0c0\" points=\"137.1577,-48.3452 139.3714,-46.0643 136.2185,-46.4669 137.1577,-48.3452\"/>\n</g>\n<!-- 2 -->\n<g id=\"node3\" class=\"node\">\n<title>2</title>\n<polygon fill=\"#eeeeee\" stroke=\"transparent\" points=\"62,-19 39,-19 39,0 62,0 62,-19\"/>\n<text text-anchor=\"middle\" x=\"50.5\" y=\"-7\" font-family=\"sans\" font-size=\"10.00\" fill=\"#000000\">7</text>\n</g>\n<!-- 1&#45;&gt;2 -->\n<g id=\"edge3\" class=\"edge\">\n<title>1&#45;&gt;2</title>\n<path fill=\"none\" stroke=\"#c0c0c0\" d=\"M50.5,-26.7524C50.5,-25.3929 50.5,-23.9783 50.5,-22.5699\"/>\n<polygon fill=\"#c0c0c0\" stroke=\"#c0c0c0\" points=\"51.5501,-22.324 50.5,-19.324 49.4501,-22.324 51.5501,-22.324\"/>\n</g>\n<!-- 4 -->\n<g id=\"node5\" class=\"node\">\n<title>4</title>\n<polygon fill=\"#eeeeee\" stroke=\"transparent\" points=\"185,-19 132,-19 132,0 185,0 185,-19\"/>\n<text text-anchor=\"middle\" x=\"158.5\" y=\"-7\" font-family=\"sans\" font-size=\"10.00\" fill=\"#000000\">рублей</text>\n</g>\n<!-- 3&#45;&gt;4 -->\n<g id=\"edge4\" class=\"edge\">\n<title>3&#45;&gt;4</title>\n<path fill=\"none\" stroke=\"#c0c0c0\" d=\"M158.5,-26.7524C158.5,-25.3929 158.5,-23.9783 158.5,-22.5699\"/>\n<polygon fill=\"#c0c0c0\" stroke=\"#c0c0c0\" points=\"159.5501,-22.324 158.5,-19.324 157.4501,-22.324 159.5501,-22.324\"/>\n</g>\n</g>\n</svg>\n"
          },
          "metadata": {
            "tags": []
          }
        },
        {
          "output_type": "display_data",
          "data": {
            "text/plain": [
              "Graph(nodes=[...], edges=[...])"
            ],
            "image/svg+xml": "<?xml version=\"1.0\" encoding=\"UTF-8\" standalone=\"no\"?>\n<!DOCTYPE svg PUBLIC \"-//W3C//DTD SVG 1.1//EN\"\n \"http://www.w3.org/Graphics/SVG/1.1/DTD/svg11.dtd\">\n<!-- Generated by graphviz version 2.40.1 (20161225.0304)\n -->\n<!-- Title: G Pages: 1 -->\n<svg width=\"223pt\" height=\"81pt\"\n viewBox=\"0.00 0.00 223.00 81.00\" xmlns=\"http://www.w3.org/2000/svg\" xmlns:xlink=\"http://www.w3.org/1999/xlink\">\n<g id=\"graph0\" class=\"graph\" transform=\"scale(1 1) rotate(0) translate(4 77)\">\n<title>G</title>\n<polygon fill=\"#ffffff\" stroke=\"transparent\" points=\"-4,4 -4,-77 219,-77 219,4 -4,4\"/>\n<!-- 0 -->\n<g id=\"node1\" class=\"node\">\n<title>0</title>\n<polygon fill=\"#dbdb8d\" stroke=\"transparent\" points=\"134,-73 75,-73 75,-54 134,-54 134,-73\"/>\n<text text-anchor=\"middle\" x=\"104.5\" y=\"-61\" font-family=\"sans\" font-size=\"10.00\" fill=\"#000000\">Measure</text>\n</g>\n<!-- 1 -->\n<g id=\"node2\" class=\"node\">\n<title>1</title>\n<polygon fill=\"#dbdb8d\" stroke=\"transparent\" points=\"101,-46 0,-46 0,-27 101,-27 101,-46\"/>\n<text text-anchor=\"middle\" x=\"50.5\" y=\"-34\" font-family=\"sans\" font-size=\"10.00\" fill=\"#000000\">Measure.amount</text>\n</g>\n<!-- 0&#45;&gt;1 -->\n<g id=\"edge1\" class=\"edge\">\n<title>0&#45;&gt;1</title>\n<path fill=\"none\" stroke=\"#c0c0c0\" d=\"M85.3096,-53.9048C81.1716,-51.8358 76.7659,-49.6329 72.5293,-47.5146\"/>\n<polygon fill=\"#c0c0c0\" stroke=\"#c0c0c0\" points=\"72.7815,-46.4669 69.6286,-46.0643 71.8423,-48.3452 72.7815,-46.4669\"/>\n</g>\n<!-- 3 -->\n<g id=\"node4\" class=\"node\">\n<title>3</title>\n<polygon fill=\"#dbdb8d\" stroke=\"transparent\" points=\"215,-46 102,-46 102,-27 215,-27 215,-46\"/>\n<text text-anchor=\"middle\" x=\"158.5\" y=\"-34\" font-family=\"sans\" font-size=\"10.00\" fill=\"#000000\">Measure.currency</text>\n</g>\n<!-- 0&#45;&gt;3 -->\n<g id=\"edge2\" class=\"edge\">\n<title>0&#45;&gt;3</title>\n<path fill=\"none\" stroke=\"#c0c0c0\" d=\"M123.6904,-53.9048C127.8284,-51.8358 132.2341,-49.6329 136.4707,-47.5146\"/>\n<polygon fill=\"#c0c0c0\" stroke=\"#c0c0c0\" points=\"137.1577,-48.3452 139.3714,-46.0643 136.2185,-46.4669 137.1577,-48.3452\"/>\n</g>\n<!-- 2 -->\n<g id=\"node3\" class=\"node\">\n<title>2</title>\n<polygon fill=\"#eeeeee\" stroke=\"transparent\" points=\"71,-19 30,-19 30,0 71,0 71,-19\"/>\n<text text-anchor=\"middle\" x=\"50.5\" y=\"-7\" font-family=\"sans\" font-size=\"10.00\" fill=\"#000000\">3000</text>\n</g>\n<!-- 1&#45;&gt;2 -->\n<g id=\"edge3\" class=\"edge\">\n<title>1&#45;&gt;2</title>\n<path fill=\"none\" stroke=\"#c0c0c0\" d=\"M50.5,-26.7524C50.5,-25.3929 50.5,-23.9783 50.5,-22.5699\"/>\n<polygon fill=\"#c0c0c0\" stroke=\"#c0c0c0\" points=\"51.5501,-22.324 50.5,-19.324 49.4501,-22.324 51.5501,-22.324\"/>\n</g>\n<!-- 4 -->\n<g id=\"node5\" class=\"node\">\n<title>4</title>\n<polygon fill=\"#eeeeee\" stroke=\"transparent\" points=\"179,-19 138,-19 138,0 179,0 179,-19\"/>\n<text text-anchor=\"middle\" x=\"158.5\" y=\"-7\" font-family=\"sans\" font-size=\"10.00\" fill=\"#000000\">евро</text>\n</g>\n<!-- 3&#45;&gt;4 -->\n<g id=\"edge4\" class=\"edge\">\n<title>3&#45;&gt;4</title>\n<path fill=\"none\" stroke=\"#c0c0c0\" d=\"M158.5,-26.7524C158.5,-25.3929 158.5,-23.9783 158.5,-22.5699\"/>\n<polygon fill=\"#c0c0c0\" stroke=\"#c0c0c0\" points=\"159.5501,-22.324 158.5,-19.324 157.4501,-22.324 159.5501,-22.324\"/>\n</g>\n</g>\n</svg>\n"
          },
          "metadata": {
            "tags": []
          }
        }
      ]
    }
  ]
}