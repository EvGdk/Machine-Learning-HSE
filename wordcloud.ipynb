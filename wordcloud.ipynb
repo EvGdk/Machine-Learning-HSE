{
  "nbformat": 4,
  "nbformat_minor": 0,
  "metadata": {
    "colab": {
      "name": "wordcloud",
      "provenance": [],
      "authorship_tag": "ABX9TyOqrP8hd5Q8ZavZ4b1HhW00",
      "include_colab_link": true
    },
    "kernelspec": {
      "name": "python3",
      "display_name": "Python 3"
    }
  },
  "cells": [
    {
      "cell_type": "markdown",
      "metadata": {
        "id": "view-in-github",
        "colab_type": "text"
      },
      "source": [
        "<a href=\"https://colab.research.google.com/github/EvGdk/Machine-Learning-HSE/blob/master/wordcloud.ipynb\" target=\"_parent\"><img src=\"https://colab.research.google.com/assets/colab-badge.svg\" alt=\"Open In Colab\"/></a>"
      ]
    },
    {
      "cell_type": "code",
      "metadata": {
        "id": "mqb8CLo-eFYN",
        "colab_type": "code",
        "colab": {}
      },
      "source": [
        "!pip -qq install pymorphy2 --progress-bar off\n",
        "!pip -qq install rusenttokenize --progress-bar of"
      ],
      "execution_count": 0,
      "outputs": []
    },
    {
      "cell_type": "code",
      "metadata": {
        "id": "5CPU248FWMyd",
        "colab_type": "code",
        "colab": {}
      },
      "source": [
        "from google.colab import files\n",
        "files.upload()"
      ],
      "execution_count": 0,
      "outputs": []
    },
    {
      "cell_type": "code",
      "metadata": {
        "id": "kRpbkSx0djCw",
        "colab_type": "code",
        "colab": {}
      },
      "source": [
        "file = open(\"СЮДА НАЗВАНИЕ ФАЙЛА И ЯЧЕЙКИ ВЫШЕ!\", \"r\")"
      ],
      "execution_count": 0,
      "outputs": []
    },
    {
      "cell_type": "code",
      "metadata": {
        "id": "C2Hd58Usdpyw",
        "colab_type": "code",
        "colab": {}
      },
      "source": [
        "text = file.read()"
      ],
      "execution_count": 0,
      "outputs": []
    },
    {
      "cell_type": "code",
      "metadata": {
        "id": "Nn1liedzd71l",
        "colab_type": "code",
        "outputId": "9784bdc0-e2ec-4f13-e4f1-eb6e421ba32a",
        "colab": {
          "base_uri": "https://localhost:8080/",
          "height": 85
        }
      },
      "source": [
        "import nltk\n",
        "nltk.download('punkt')\n",
        "nltk.download('stopwords')\n",
        "from collections import defaultdict as dd\n",
        "from operator import itemgetter\n",
        "from nltk import word_tokenize\n",
        "from nltk.corpus import stopwords\n",
        "from nltk import sent_tokenize\n",
        "import string\n",
        "import pymorphy2\n",
        "from sklearn.feature_extraction.text import TfidfVectorizer\n"
      ],
      "execution_count": 0,
      "outputs": [
        {
          "output_type": "stream",
          "text": [
            "[nltk_data] Downloading package punkt to /root/nltk_data...\n",
            "[nltk_data]   Package punkt is already up-to-date!\n",
            "[nltk_data] Downloading package stopwords to /root/nltk_data...\n",
            "[nltk_data]   Package stopwords is already up-to-date!\n"
          ],
          "name": "stdout"
        }
      ]
    },
    {
      "cell_type": "code",
      "metadata": {
        "id": "Kd9rpsDEqqGw",
        "colab_type": "code",
        "colab": {}
      },
      "source": [
        "russian_stopwords = stopwords.words('russian')\n",
        "local_stop = [\"все\", \"это\", \"тебе\", \"твой\", \"всё\", \"—\", \"твоя\", \"нами\", \"пока\", \"наш\", \"свой\", \"нам\", \n",
        "              \"«\", \"»\", \"тех\", \"те\", \"обо\", \"мои\",\"ль\"]\n",
        "russian_stopwords = russian_stopwords+local_stop"
      ],
      "execution_count": 0,
      "outputs": []
    },
    {
      "cell_type": "code",
      "metadata": {
        "id": "z9vFTUkieA63",
        "colab_type": "code",
        "colab": {}
      },
      "source": [
        "morph_analyzer = pymorphy2.MorphAnalyzer()\n",
        "#russian_stopwords = stopwords.words('russian')\n",
        "\n",
        "def preprocess_tokenize(text):\n",
        "    \n",
        "    text_preprocessed_tokenized = []\n",
        "        \n",
        "    for sentence in sent_tokenize(text):\n",
        "        \n",
        "        clean_words = [word.strip(string.punctuation) for word in word_tokenize(text)]\n",
        "        clean_words = [word for word in clean_words if word]\n",
        "        clean_words = [word.lower() for word in clean_words if word]\n",
        "        clean_words = [word for word in clean_words if word not in russian_stopwords]\n",
        "        \n",
        "        clean_lemmas = [morph_analyzer.parse(word)[0].normal_form for word in clean_words]\n",
        "        \n",
        "        text_preprocessed_tokenized.extend(clean_words)\n",
        "\n",
        "    return text_preprocessed_tokenized"
      ],
      "execution_count": 0,
      "outputs": []
    },
    {
      "cell_type": "code",
      "metadata": {
        "id": "eN-wyUkLfyzB",
        "colab_type": "code",
        "colab": {}
      },
      "source": [
        "text_words_frequencies = dd(int) #это будет работать очень долго\n",
        "document_tokenized = preprocess_tokenize(text)"
      ],
      "execution_count": 0,
      "outputs": []
    },
    {
      "cell_type": "code",
      "metadata": {
        "id": "zM19Sqbrf4aK",
        "colab_type": "code",
        "colab": {}
      },
      "source": [
        "import matplotlib.pyplot as plt\n",
        "from wordcloud import WordCloud\n",
        "\n",
        "def show_wordcloud_by_freq_dict(freq_dict):\n",
        "    wordcloud = WordCloud(background_color='white',\n",
        "                          width=500,\n",
        "                          height=400)\n",
        "    wordcloud.generate_from_frequencies(frequencies=freq_dict)\n",
        "    fig = plt.figure()\n",
        "    fig.set_figwidth(5)\n",
        "    fig.set_figheight(5)\n",
        "    plt.imshow(wordcloud, interpolation=\"bilinear\")\n",
        "    plt.axis(\"off\")\n",
        "   \n",
        "    plt.savefig('fig.png', dpi=300)\n",
        "    plt.show()"
      ],
      "execution_count": 0,
      "outputs": []
    },
    {
      "cell_type": "code",
      "metadata": {
        "id": "rNvb5L3Zf-3R",
        "colab_type": "code",
        "colab": {}
      },
      "source": [
        "for word in document_tokenized:\n",
        "        text_words_frequencies[word] += 1 / len(document_tokenized)\n",
        "\n",
        "sorted_frequency_table = sorted(text_words_frequencies.items(), \n",
        "                                        key=itemgetter(1), reverse=True)    \n",
        "        "
      ],
      "execution_count": 0,
      "outputs": []
    },
    {
      "cell_type": "code",
      "metadata": {
        "id": "ANXrbWTEvpar",
        "colab_type": "code",
        "colab": {}
      },
      "source": [
        "sorted_frequency_table #это можно не запускать"
      ],
      "execution_count": 0,
      "outputs": []
    },
    {
      "cell_type": "code",
      "metadata": {
        "id": "PW0i6KoPvNVn",
        "colab_type": "code",
        "colab": {}
      },
      "source": [
        "for word, freq in sorted_frequency_table[:10]:\n",
        "            print('\\t'.join((word, str(freq))))\n",
        "        \n",
        "show_wordcloud_by_freq_dict(text_words_frequencies)\n",
        "        "
      ],
      "execution_count": 0,
      "outputs": []
    }
  ]
}